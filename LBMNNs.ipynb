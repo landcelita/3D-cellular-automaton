{
  "cells": [
    {
      "cell_type": "markdown",
      "metadata": {
        "id": "view-in-github",
        "colab_type": "text"
      },
      "source": [
        "<a href=\"https://colab.research.google.com/github/landcelita/3D-cellular-automaton/blob/main/LBMNNs.ipynb\" target=\"_parent\"><img src=\"https://colab.research.google.com/assets/colab-badge.svg\" alt=\"Open In Colab\"/></a>"
      ]
    },
    {
      "cell_type": "markdown",
      "metadata": {
        "id": "rNmformq_4SL"
      },
      "source": [
        "# Prepare"
      ]
    },
    {
      "cell_type": "code",
      "execution_count": null,
      "metadata": {
        "colab": {
          "base_uri": "https://localhost:8080/"
        },
        "id": "iltDTo-5uQCo",
        "outputId": "52a27ab7-1338-48e4-b40e-6245f07afc59"
      },
      "outputs": [
        {
          "name": "stdout",
          "output_type": "stream",
          "text": [
            "Looking in indexes: https://pypi.org/simple, https://us-python.pkg.dev/colab-wheels/public/simple/\n",
            "Requirement already satisfied: pygrib in /usr/local/lib/python3.8/dist-packages (2.1.4)\n",
            "Requirement already satisfied: pyproj in /usr/local/lib/python3.8/dist-packages (from pygrib) (3.4.1)\n",
            "Requirement already satisfied: numpy in /usr/local/lib/python3.8/dist-packages (from pygrib) (1.21.6)\n",
            "Requirement already satisfied: certifi in /usr/local/lib/python3.8/dist-packages (from pyproj->pygrib) (2022.12.7)\n",
            "Looking in indexes: https://pypi.org/simple, https://us-python.pkg.dev/colab-wheels/public/simple/\n",
            "Requirement already satisfied: tensorboardX in /usr/local/lib/python3.8/dist-packages (2.5.1)\n",
            "Requirement already satisfied: protobuf<=3.20.1,>=3.8.0 in /usr/local/lib/python3.8/dist-packages (from tensorboardX) (3.19.6)\n",
            "Requirement already satisfied: numpy in /usr/local/lib/python3.8/dist-packages (from tensorboardX) (1.21.6)\n"
          ]
        }
      ],
      "source": [
        "!pip install pygrib\n",
        "!pip install tensorboardX"
      ]
    },
    {
      "cell_type": "code",
      "execution_count": null,
      "metadata": {
        "id": "Msj8FXQPMa4U"
      },
      "outputs": [],
      "source": [
        "%load_ext tensorboard"
      ]
    },
    {
      "cell_type": "code",
      "execution_count": null,
      "metadata": {
        "id": "Dz9u0saErhps"
      },
      "outputs": [],
      "source": [
        "import numpy as np\n",
        "import torch\n",
        "import torch.nn as nn\n",
        "import os\n",
        "import time\n",
        "import datetime as dt\n",
        "import pygrib\n",
        "from datetime import timedelta\n",
        "from torch.utils.data.sampler import SubsetRandomSampler\n",
        "from torch.utils.data import DataLoader\n",
        "from torch.utils.tensorboard import SummaryWriter\n",
        "import torch.multiprocessing as multiprocessing\n",
        "import matplotlib.pyplot as plt\n",
        "import seaborn as sns\n",
        "from typing import Dict, List"
      ]
    },
    {
      "cell_type": "code",
      "execution_count": null,
      "metadata": {
        "colab": {
          "base_uri": "https://localhost:8080/"
        },
        "id": "EHaRtnCTrsIb",
        "outputId": "500a58c6-ae27-481c-e376-4e9ced56788d"
      },
      "outputs": [
        {
          "name": "stdout",
          "output_type": "stream",
          "text": [
            "cuda:0\n"
          ]
        }
      ],
      "source": [
        "device = torch.device('cuda:0' if torch.cuda.is_available() else 'cpu')\n",
        "print(device)"
      ]
    },
    {
      "cell_type": "markdown",
      "metadata": {
        "id": "aPOnQVMmlzea"
      },
      "source": [
        "# Const"
      ]
    },
    {
      "cell_type": "code",
      "execution_count": null,
      "metadata": {
        "id": "QJTc-xtQlQ7G"
      },
      "outputs": [],
      "source": [
        "U_COEF = 0.005\n",
        "RHO_COEF = 0.0001\n",
        "U_MSE_COEF = 40000.\n",
        "RHO_MSE_COEF = 200.\n",
        "RANDOM_WIDTH = 0.01\n",
        "HEIGHT = 505\n",
        "WIDTH = 481"
      ]
    },
    {
      "cell_type": "markdown",
      "metadata": {
        "id": "uGT_tdWuATR5"
      },
      "source": [
        "# Define custom layers"
      ]
    },
    {
      "cell_type": "markdown",
      "metadata": {
        "id": "hrSS-r1xDGm9"
      },
      "source": [
        "### Input Layer"
      ]
    },
    {
      "cell_type": "code",
      "execution_count": null,
      "metadata": {
        "id": "cuOiERZ-r6oB"
      },
      "outputs": [],
      "source": [
        "class InputLayer(nn.Module):\n",
        "    def __init__(self, height, width):\n",
        "        super().__init__()\n",
        "        self.height = height\n",
        "        self.width = width\n",
        "        \n",
        "    def forward(self, u_vert, u_hori, rho):\n",
        "        # use feq as input field\n",
        "        # todo: make this layer be also learnable\n",
        "        \n",
        "        # feq(x,v) = C[v] * rho * (1 + 3 v.u + 4.5 (v.u)^2 - 1.5 u^2)\n",
        "        feq = torch.empty((3, 3, self.height, self.width), dtype=torch.float32, device=device)\n",
        "        C = torch.tensor([[1.0/36.0, 1.0/9.0, 1.0/36.0], [1.0/9.0, 4.0/9.0, 1.0/9.0], [1.0/36.0, 1.0/9.0, 1.0/36.0]], dtype=torch.float32, device=device)\n",
        "        u_squared = u_vert ** 2 + u_hori ** 2\n",
        "        \n",
        "        for dr in range(-1, 2):\n",
        "            for dc in range(-1, 2):\n",
        "                v_dot_u = dr * u_vert + dc * u_hori\n",
        "                feq[dr+1, dc+1, :, :] = C[dr+1,dc+1] * rho * (1.0 + 3.0 * v_dot_u + 4.5 * v_dot_u * v_dot_u - 1.5 * u_squared)\n",
        "                \n",
        "        return feq"
      ]
    },
    {
      "cell_type": "code",
      "execution_count": null,
      "metadata": {
        "colab": {
          "base_uri": "https://localhost:8080/"
        },
        "id": "cymZiWDGr8bd",
        "outputId": "9dbc92a3-e07b-4f43-c1ff-b6404693700d"
      },
      "outputs": [
        {
          "name": "stdout",
          "output_type": "stream",
          "text": [
            "tensor(0.1000, device='cuda:0')\n",
            "tensor(-0.3000, device='cuda:0')\n",
            "tensor(0.8000, device='cuda:0')\n"
          ]
        }
      ],
      "source": [
        "# test for InputLayer\n",
        "# # Later, I'll check the immutability of the InputLayer\n",
        "#  - it must put out the same tensor even after the weights are updated\n",
        "def test_for_InputLayer():\n",
        "    input_layer_u_vert = torch.tensor([[0.1]], dtype=torch.float32, device=device)\n",
        "    input_layer_u_hori = torch.tensor([[-0.3]], dtype=torch.float32, device=device)\n",
        "    input_layer_rho = torch.tensor([[0.8]], dtype=torch.float32, device=device)\n",
        "\n",
        "    input_layer = InputLayer(1, 1).to(device)\n",
        "    feq = input_layer(input_layer_u_vert, input_layer_u_hori, input_layer_rho)\n",
        "    print(torch.sum(feq[2,:,0,0] - feq[0,:,0,0]) / torch.sum(feq[:,:,0,0])) # u_vert\n",
        "    print(torch.sum(feq[:,2,0,0] - feq[:,0,0,0]) / torch.sum(feq[:,:,0,0])) # u_hori\n",
        "    print(torch.sum(feq[:,:,0,0])) # rho\n",
        "\n",
        "test_for_InputLayer()"
      ]
    },
    {
      "cell_type": "markdown",
      "metadata": {
        "id": "3htDZ5qVDOGh"
      },
      "source": [
        "### Streaming Layer"
      ]
    },
    {
      "cell_type": "code",
      "execution_count": null,
      "metadata": {
        "id": "j_xf25cwsBy7"
      },
      "outputs": [],
      "source": [
        "class StreamingLayer(nn.Module):\n",
        "    def __init__(self, in_height, in_width):\n",
        "        super().__init__()\n",
        "        self.in_height = in_height\n",
        "        self.in_width = in_width\n",
        "        \n",
        "        self.w0 = nn.Parameter(torch.zeros((in_height-2, in_width-2), dtype=torch.float32, device=device))\n",
        "        self.w1 = nn.Parameter(torch.ones((in_height-2, in_width-2), dtype=torch.float32, device=device))\n",
        "        \n",
        "    def forward(self, f_prev):\n",
        "        # f(x,v) = w0(x,v) + w1(x,v) * f_prev(x-v,v)\n",
        "        \n",
        "        f = torch.empty((3, 3, self.in_height-2, self.in_width-2), dtype=torch.float32, device=device)\n",
        "        for dr in range(-1, 2):\n",
        "            for dc in range(-1, 2):\n",
        "                f[dr+1,dc+1,:,:] = self.w0 + self.w1 * f_prev[dr+1,dc+1,1-dr:self.in_height-1-dr,1-dc:self.in_width-1-dc]\n",
        "        \n",
        "        return f\n",
        "                "
      ]
    },
    {
      "cell_type": "code",
      "execution_count": null,
      "metadata": {
        "id": "oxhpr5208GNM"
      },
      "outputs": [],
      "source": [
        "class StreamingLayerWithNoisyInit(nn.Module):\n",
        "    def __init__(self, in_height, in_width):\n",
        "        super().__init__()\n",
        "        self.in_height = in_height\n",
        "        self.in_width = in_width\n",
        "        \n",
        "        self.w0 = nn.Parameter(torch.zeros((in_height-2, in_width-2), dtype=torch.float32, device=device)\\\n",
        "                               + torch.rand((in_height-2, in_width-2), dtype=torch.float32, device=device) * RANDOM_WIDTH - RANDOM_WIDTH/2.0)\n",
        "        self.w1 = nn.Parameter(torch.ones((in_height-2, in_width-2), dtype=torch.float32, device=device)\\\n",
        "                               + torch.rand((in_height-2, in_width-2), dtype=torch.float32, device=device) * RANDOM_WIDTH - RANDOM_WIDTH/2.0)\n",
        "        \n",
        "    def forward(self, f_prev):\n",
        "        # f(x,v) = w0(x,v) + w1(x,v) * f_prev(x-v,v)\n",
        "        \n",
        "        f = torch.empty((3, 3, self.in_height-2, self.in_width-2), dtype=torch.float32, device=device)\n",
        "        for dr in range(-1, 2):\n",
        "            for dc in range(-1, 2):\n",
        "                f[dr+1,dc+1,:,:] = self.w0 + self.w1 * f_prev[dr+1,dc+1,1-dr:self.in_height-1-dr,1-dc:self.in_width-1-dc]\n",
        "        \n",
        "        return f"
      ]
    },
    {
      "cell_type": "code",
      "execution_count": null,
      "metadata": {
        "colab": {
          "base_uri": "https://localhost:8080/"
        },
        "id": "fw9Mo_MOsFCP",
        "outputId": "a3520b4d-eb6f-463a-b336-f42aa22dc2e4"
      },
      "outputs": [
        {
          "name": "stdout",
          "output_type": "stream",
          "text": [
            "tensor([[[[0., 0., 0.],\n",
            "          [0., 0., 0.],\n",
            "          [0., 0., 9.]],\n",
            "\n",
            "         [[0., 0., 0.],\n",
            "          [0., 0., 0.],\n",
            "          [0., 8., 0.]],\n",
            "\n",
            "         [[0., 0., 0.],\n",
            "          [0., 0., 0.],\n",
            "          [7., 0., 0.]]],\n",
            "\n",
            "\n",
            "        [[[0., 0., 0.],\n",
            "          [0., 0., 6.],\n",
            "          [0., 0., 0.]],\n",
            "\n",
            "         [[0., 0., 0.],\n",
            "          [0., 5., 0.],\n",
            "          [0., 0., 0.]],\n",
            "\n",
            "         [[0., 0., 0.],\n",
            "          [4., 0., 0.],\n",
            "          [0., 0., 0.]]],\n",
            "\n",
            "\n",
            "        [[[0., 0., 3.],\n",
            "          [0., 0., 0.],\n",
            "          [0., 0., 0.]],\n",
            "\n",
            "         [[0., 2., 0.],\n",
            "          [0., 0., 0.],\n",
            "          [0., 0., 0.]],\n",
            "\n",
            "         [[1., 0., 0.],\n",
            "          [0., 0., 0.],\n",
            "          [0., 0., 0.]]]], device='cuda:0', dtype=torch.float64)\n",
            "tensor([[[[9.]],\n",
            "\n",
            "         [[8.]],\n",
            "\n",
            "         [[7.]]],\n",
            "\n",
            "\n",
            "        [[[6.]],\n",
            "\n",
            "         [[5.]],\n",
            "\n",
            "         [[4.]]],\n",
            "\n",
            "\n",
            "        [[[3.]],\n",
            "\n",
            "         [[2.]],\n",
            "\n",
            "         [[1.]]]], device='cuda:0', grad_fn=<CopySlices>)\n"
          ]
        }
      ],
      "source": [
        "# test for StreamingLayer\n",
        "def test_for_StreamingLayer():\n",
        "    input_f_prev = torch.zeros((3, 3, 3, 3), dtype=torch.float64, device=device)\n",
        "    input_f_prev[2,2,0,0] = 1.0\n",
        "    input_f_prev[2,1,0,1] = 2.0\n",
        "    input_f_prev[2,0,0,2] = 3.0\n",
        "    input_f_prev[1,2,1,0] = 4.0\n",
        "    input_f_prev[1,1,1,1] = 5.0\n",
        "    input_f_prev[1,0,1,2] = 6.0\n",
        "    input_f_prev[0,2,2,0] = 7.0\n",
        "    input_f_prev[0,1,2,1] = 8.0\n",
        "    input_f_prev[0,0,2,2] = 9.0\n",
        "    print(input_f_prev)\n",
        "\n",
        "    streaming_layer = StreamingLayer(3, 3).to(device)\n",
        "    f_streamed = streaming_layer(input_f_prev)\n",
        "    print(f_streamed)\n",
        "\n",
        "test_for_StreamingLayer()"
      ]
    },
    {
      "cell_type": "markdown",
      "metadata": {
        "id": "-8F4aZ1WDlEc"
      },
      "source": [
        "### Colliding Layer"
      ]
    },
    {
      "cell_type": "code",
      "execution_count": null,
      "metadata": {
        "id": "p1qYEjs3sH_1"
      },
      "outputs": [],
      "source": [
        "class CollidingLayer(nn.Module):\n",
        "    def __init__(self, in_height, in_width):\n",
        "        super().__init__()\n",
        "        self.in_height = in_height\n",
        "        self.in_width = in_width\n",
        "        \n",
        "        self.w1 = nn.Parameter(torch.full((in_height, in_width), fill_value=3.0, dtype=torch.float32, device=device), requires_grad=True)\n",
        "        self.w2 = nn.Parameter(torch.full((in_height, in_width), fill_value=0.0, dtype=torch.float32, device=device), requires_grad=True)\n",
        "        self.w3 = nn.Parameter(torch.full((in_height, in_width), fill_value=4.5, dtype=torch.float32, device=device), requires_grad=True)\n",
        "        self.w4 = nn.Parameter(torch.full((in_height, in_width), fill_value=-1.5, dtype=torch.float32, device=device), requires_grad=True)\n",
        "        \n",
        "    def forward(self, f_prev):\n",
        "        # feq(x,v) = C(v) * rho(x) * (1 + w1(x,v) v.u(x) + w2(x,v) vXu(x) + w3(x,v) (v.u(x))^2 + w4(x,v) u(x)^2)\n",
        "        # f = (f_prev + feq) / 2\n",
        "        C = torch.tensor([[1.0/36.0, 1.0/9.0, 1.0/36.0], [1.0/9.0, 4.0/9.0, 1.0/9.0], [1.0/36.0, 1.0/9.0, 1.0/36.0]], dtype=torch.float32, device=device)\n",
        "        \n",
        "        rho = torch.sum(f_prev, dim=(0,1))\n",
        "        u_vert = (f_prev[2,0,:,:] + f_prev[2,1,:,:] + f_prev[2,2,:,:] - f_prev[0,0,:,:] - f_prev[0,1,:,:] - f_prev[0,2,:,:]) / rho\n",
        "        u_hori = (f_prev[0,2,:,:] + f_prev[1,2,:,:] + f_prev[2,2,:,:] - f_prev[0,0,:,:] - f_prev[1,0,:,:] - f_prev[2,0,:,:]) / rho\n",
        "        u_squared = u_vert ** 2 + u_hori ** 2\n",
        "        feq = torch.empty((3, 3, self.in_height, self.in_width), dtype=torch.float32, device=device)\n",
        "        \n",
        "        for dr in range(-1, 2):\n",
        "            for dc in range(-1, 2):\n",
        "                v_dot_u = dr * u_vert + dc * u_hori\n",
        "                vXu = dr * u_hori - dc * u_vert\n",
        "                feq[dr+1, dc+1, :, :] = C[dr+1,dc+1] * rho * (1.0 + (self.w1 + self.w3 * v_dot_u) * v_dot_u + self.w2 * vXu + self.w4 * u_squared)\n",
        "        \n",
        "        return (f_prev + feq) / 2.0"
      ]
    },
    {
      "cell_type": "code",
      "execution_count": null,
      "metadata": {
        "id": "c1p9lfUt5qpI"
      },
      "outputs": [],
      "source": [
        "class CollidingLayerWithNoisyInit(nn.Module):\n",
        "    def __init__(self, in_height, in_width):\n",
        "        super().__init__()\n",
        "        self.in_height = in_height\n",
        "        self.in_width = in_width\n",
        "        \n",
        "        self.w1 = nn.Parameter(torch.full((in_height, in_width), fill_value=3.0, dtype=torch.float32, device=device)\\\n",
        "                               + torch.rand((in_height, in_width), dtype=torch.float32, device=device) * RANDOM_WIDTH - RANDOM_WIDTH/2.0, requires_grad=True)\n",
        "        self.w2 = nn.Parameter(torch.full((in_height, in_width), fill_value=0.0, dtype=torch.float32, device=device)\\\n",
        "                               + torch.rand((in_height, in_width), dtype=torch.float32, device=device) * RANDOM_WIDTH - RANDOM_WIDTH/2.0, requires_grad=True)\n",
        "        self.w3 = nn.Parameter(torch.full((in_height, in_width), fill_value=4.5, dtype=torch.float32, device=device)\\\n",
        "                               + torch.rand((in_height, in_width), dtype=torch.float32, device=device) * RANDOM_WIDTH - RANDOM_WIDTH/2.0, requires_grad=True)\n",
        "        self.w4 = nn.Parameter(torch.full((in_height, in_width), fill_value=-1.5, dtype=torch.float32, device=device)\\\n",
        "                               + torch.rand((in_height, in_width), dtype=torch.float32, device=device) * RANDOM_WIDTH - RANDOM_WIDTH/2.0, requires_grad=True)\n",
        "        self.w5 = nn.Parameter(torch.full((in_height, in_width), fill_value=1.0, dtype=torch.float32, device=device)\\\n",
        "                               + torch.rand((in_height, in_width), dtype=torch.float32, device=device) * RANDOM_WIDTH - RANDOM_WIDTH/2.0, requires_grad=True)\n",
        "        \n",
        "    def forward(self, f_prev):\n",
        "        # feq(x,v) = C(v) * rho(x) * (1 + w1(x,v) v.u(x) + w2(x,v) vXu(x) + w3(x,v) (v.u(x))^2 + w4(x,v) u(x)^2)\n",
        "        # f = (f_prev + feq) / 2\n",
        "        C = torch.tensor([[1.0/36.0, 1.0/9.0, 1.0/36.0], [1.0/9.0, 4.0/9.0, 1.0/9.0], [1.0/36.0, 1.0/9.0, 1.0/36.0]], dtype=torch.float32, device=device)\n",
        "        \n",
        "        rho = torch.sum(f_prev, dim=(0,1))\n",
        "        u_vert = (f_prev[2,0,:,:] + f_prev[2,1,:,:] + f_prev[2,2,:,:] - f_prev[0,0,:,:] - f_prev[0,1,:,:] - f_prev[0,2,:,:]) / rho\n",
        "        u_hori = (f_prev[0,2,:,:] + f_prev[1,2,:,:] + f_prev[2,2,:,:] - f_prev[0,0,:,:] - f_prev[1,0,:,:] - f_prev[2,0,:,:]) / rho\n",
        "        u_squared = u_vert ** 2 + u_hori ** 2\n",
        "        feq = torch.empty((3, 3, self.in_height, self.in_width), dtype=torch.float32, device=device)\n",
        "        \n",
        "        for dr in range(-1, 2):\n",
        "            for dc in range(-1, 2):\n",
        "                v_dot_u = dr * u_vert + dc * u_hori\n",
        "                vXu = dr * u_hori - dc * u_vert\n",
        "                feq[dr+1, dc+1, :, :] = C[dr+1,dc+1] * rho * (1.0 + (self.w1 + self.w3 * v_dot_u) * v_dot_u + self.w2 * vXu + self.w4 * u_squared)\n",
        "        \n",
        "        return (f_prev * self.w5 + feq * (2.0 - self.w5)) / 2.0"
      ]
    },
    {
      "cell_type": "code",
      "execution_count": null,
      "metadata": {
        "colab": {
          "base_uri": "https://localhost:8080/"
        },
        "id": "cAzNVUB0sMSw",
        "outputId": "bc80e711-ce2e-4a70-8724-3d9fd03c0000"
      },
      "outputs": [
        {
          "name": "stdout",
          "output_type": "stream",
          "text": [
            "tensor(45., device='cuda:0', grad_fn=<SumBackward0>)\n",
            "tensor(-0.4000, device='cuda:0', grad_fn=<DivBackward0>)\n",
            "-0.4\n",
            "tensor(-0.1333, device='cuda:0', grad_fn=<DivBackward0>)\n",
            "-0.13333333333333333\n"
          ]
        }
      ],
      "source": [
        "# test for CollidingLayer\n",
        "def test_for_CollidingLayer():\n",
        "    input_f = torch.tensor([[[[9., 9.]],[[8., 8.]],[[7., 7.]]],[[[6., 6.]],[[5., 5.]],[[4., 4.]]],[[[3., 3.]],[[2., 2.]],[[1., 1.]]]], dtype=torch.float32, device=device)\n",
        "    colliding_layer = CollidingLayer(1, 2)\n",
        "    collided_field = colliding_layer(input_f)\n",
        "\n",
        "    print(torch.sum(collided_field[:,:,0,0])) # rho 45.0\n",
        "    print((torch.sum(collided_field[2,:,0,0]) - torch.sum(collided_field[0,:,0,0])) / torch.sum(collided_field[:,:,0,0])) # u_vert\n",
        "    print((1.+2.+3.-9.-8.-7.)/45.)\n",
        "    print((torch.sum(collided_field[:,2,0,0]) - torch.sum(collided_field[:,0,0,0])) / torch.sum(collided_field[:,:,0,0])) # u_hori\n",
        "    print((1.+4.+7.-3.-6.-9.)/45.)\n",
        "\n",
        "test_for_CollidingLayer()"
      ]
    },
    {
      "cell_type": "markdown",
      "metadata": {
        "id": "UUXXov9xDqdJ"
      },
      "source": [
        "### Output Layer"
      ]
    },
    {
      "cell_type": "code",
      "execution_count": null,
      "metadata": {
        "id": "OD2zGC-usOZm"
      },
      "outputs": [],
      "source": [
        "class OutputLayer(nn.Module):\n",
        "    def __init__(self, height, width):\n",
        "        super().__init__()\n",
        "        self.height = height\n",
        "        self.width = width\n",
        "        \n",
        "    def forward(self, f):\n",
        "        rho = torch.sum(f, dim=(0,1))\n",
        "        u_vert = (f[2,0,:,:] + f[2,1,:,:] + f[2,2,:,:] - f[0,0,:,:] - f[0,1,:,:] - f[0,2,:,:]) / rho\n",
        "        u_hori = (f[0,2,:,:] + f[1,2,:,:] + f[2,2,:,:] - f[0,0,:,:] - f[1,0,:,:] - f[2,0,:,:]) / rho\n",
        "        return {\n",
        "            'u_vert': u_vert,\n",
        "            'u_hori': u_hori,\n",
        "            'rho': rho\n",
        "        }"
      ]
    },
    {
      "cell_type": "markdown",
      "metadata": {
        "id": "IGh2mZnDAvjQ"
      },
      "source": [
        "# Construct a LBM model from the layers"
      ]
    },
    {
      "cell_type": "code",
      "execution_count": null,
      "metadata": {
        "id": "uJllOre8sQ7Q"
      },
      "outputs": [],
      "source": [
        "class LBM(nn.Module):\n",
        "    margin = 4\n",
        "    \n",
        "    def __init__(self, height, width):\n",
        "        super(LBM, self).__init__()\n",
        "        self.input_layer = InputLayer(height, width)\n",
        "        self.streaming1_layer = StreamingLayer(height, width)\n",
        "        self.colliding1_layer = CollidingLayer(height-2, width-2)\n",
        "        self.streaming2_layer = StreamingLayer(height-2, width-2)\n",
        "        self.colliding2_layer = CollidingLayer(height-4, width-4)\n",
        "        self.streaming3_layer = StreamingLayer(height-4, width-4)\n",
        "        self.colliding3_layer = CollidingLayer(height-6, width-6)\n",
        "        self.streaming4_layer = StreamingLayer(height-6, width-6)\n",
        "        self.output_layer = OutputLayer(height-8, width-8)\n",
        "        \n",
        "    def forward(self, u_vert, u_hori, rho):\n",
        "        f = self.input_layer(u_vert, u_hori, rho)\n",
        "        f = self.streaming1_layer(f)\n",
        "        f = self.colliding1_layer(f)\n",
        "        f = self.streaming2_layer(f)\n",
        "        f = self.colliding2_layer(f)\n",
        "        f = self.streaming3_layer(f)\n",
        "        f = self.colliding3_layer(f)\n",
        "        f = self.streaming4_layer(f)\n",
        "        out = self.output_layer(f)\n",
        "        return out"
      ]
    },
    {
      "cell_type": "code",
      "execution_count": null,
      "metadata": {
        "id": "Fvk1yd5S9Ksm"
      },
      "outputs": [],
      "source": [
        "class LBMwithNoisyInit(nn.Module):\n",
        "    margin = 5\n",
        "    \n",
        "    def __init__(self, height, width):\n",
        "        super(LBMwithNoisyInit, self).__init__()\n",
        "        self.input_layer = InputLayer(height, width)\n",
        "        self.streaming1_layer = StreamingLayerWithNoisyInit(height, width)\n",
        "        self.colliding1_layer = CollidingLayerWithNoisyInit(height-2, width-2)\n",
        "        self.streaming2_layer = StreamingLayerWithNoisyInit(height-2, width-2)\n",
        "        self.colliding2_layer = CollidingLayerWithNoisyInit(height-4, width-4)\n",
        "        self.streaming3_layer = StreamingLayerWithNoisyInit(height-4, width-4)\n",
        "        self.colliding3_layer = CollidingLayerWithNoisyInit(height-6, width-6)\n",
        "        self.streaming4_layer = StreamingLayerWithNoisyInit(height-6, width-6)\n",
        "        self.colliding4_layer = CollidingLayerWithNoisyInit(height-8, width-8)\n",
        "        self.streaming5_layer = StreamingLayerWithNoisyInit(height-8, width-8)\n",
        "        self.output_layer = OutputLayer(height-10, width-10)\n",
        "        \n",
        "    def forward(self, u_vert, u_hori, rho):\n",
        "        f = self.input_layer(u_vert, u_hori, rho)\n",
        "        f = self.streaming1_layer(f)\n",
        "        f = self.colliding1_layer(f)\n",
        "        f = self.streaming2_layer(f)\n",
        "        f = self.colliding2_layer(f)\n",
        "        f = self.streaming3_layer(f)\n",
        "        f = self.colliding3_layer(f)\n",
        "        f = self.streaming4_layer(f)\n",
        "        f = self.colliding4_layer(f)\n",
        "        f = self.streaming5_layer(f)\n",
        "        out = self.output_layer(f)\n",
        "        return out"
      ]
    },
    {
      "cell_type": "markdown",
      "metadata": {
        "id": "9_tbqMBgBlt6"
      },
      "source": [
        "# Load data to make a dataset and dataloader"
      ]
    },
    {
      "cell_type": "markdown",
      "metadata": {
        "id": "HOWJ6-RxElK_"
      },
      "source": [
        "### Transformers"
      ]
    },
    {
      "cell_type": "code",
      "execution_count": null,
      "metadata": {
        "id": "R4PkTjNMscJ9"
      },
      "outputs": [],
      "source": [
        "def transform(u_vert, u_hori, rho):\n",
        "    # 下向き正\n",
        "    return u_vert * -U_COEF, u_hori * U_COEF, rho * RHO_COEF\n",
        "\n",
        "def target_transform(u_vert, u_hori, rho, margin):\n",
        "    if margin == 0:\n",
        "        return u_vert * -U_COEF, u_hori * U_COEF, rho * RHO_COEF\n",
        "    else:\n",
        "        return u_vert[margin:-margin, margin:-margin] * -U_COEF, u_hori[margin:-margin, margin:-margin] * U_COEF, rho[margin:-margin, margin:-margin] * RHO_COEF\n",
        "\n",
        "def remove_margin(u_vert, u_hori, rho, margin):\n",
        "    if margin == 0:\n",
        "        return u_vert, u_hori, rho\n",
        "    else:\n",
        "        return u_vert[margin:-margin, margin:-margin], u_hori[margin:-margin, margin:-margin], rho[margin:-margin,margin:-margin]"
      ]
    },
    {
      "cell_type": "markdown",
      "metadata": {
        "id": "oq6cB_5CEovi"
      },
      "source": [
        "### Dataset"
      ]
    },
    {
      "cell_type": "code",
      "execution_count": null,
      "metadata": {
        "id": "6te31vRosV-1"
      },
      "outputs": [],
      "source": [
        "class WeatherDatasetLazy(torch.utils.data.Dataset):\n",
        "    def __init__(self, src_dir, datetimes, transform, target_transform, margin):\n",
        "        self.src_dir = src_dir\n",
        "        self.input_paths = []\n",
        "        self.target_paths = []\n",
        "        self.datetimes = []\n",
        "        self.margin = margin # this value is the number of streaming layers that reduce the border cells.\n",
        "        # eg. ...                            xxx\n",
        "        #     ...  --(1 Streaming Layer)-->  x.x\n",
        "        #     ...                            xxx\n",
        "        for datetime in datetimes:\n",
        "            self.datetimes.append(datetime.strftime('%Y%m%d%H'))\n",
        "            self.input_paths.append(os.path.join(src_dir, datetime.strftime('%Y%m%d%H.grib2')))\n",
        "            datetime += timedelta(hours=3)\n",
        "            self.target_paths.append(os.path.join(src_dir, datetime.strftime('%Y%m%d%H.grib2')))\n",
        "        self.transform = transform\n",
        "        self.target_transform = target_transform\n",
        "    \n",
        "    def __len__(self):\n",
        "        return len(self.input_paths)\n",
        "    \n",
        "    def __getitem__(self, idx):\n",
        "        datetime = self.datetimes[idx]\n",
        "        input_grib = pygrib.open(self.input_paths[idx])\n",
        "        rho = torch.from_numpy(np.array(input_grib.select()[0].values, dtype=np.float32)).to(device)\n",
        "        u_hori = torch.from_numpy(np.array(input_grib.select()[1].values, dtype=np.float32)).to(device)\n",
        "        u_vert = torch.from_numpy(np.array(input_grib.select()[2].values, dtype=np.float32)).to(device)\n",
        "        target_grib = pygrib.open(self.target_paths[idx])\n",
        "        rho_target = torch.from_numpy(np.array(target_grib.select()[0].values, dtype=np.float32)).to(device)\n",
        "        u_hori_target = torch.from_numpy(np.array(target_grib.select()[1].values, dtype=np.float32)).to(device)\n",
        "        u_vert_target = torch.from_numpy(np.array(target_grib.select()[2].values, dtype=np.float32)).to(device)\n",
        "        u_vert, u_hori, rho = self.transform(u_vert, u_hori, rho)\n",
        "        u_vert_target, u_hori_target, rho_target = self.target_transform(u_vert_target, u_hori_target, rho_target, self.margin)\n",
        "        return {\n",
        "            \"u_vert\": u_vert,\n",
        "            \"u_hori\": u_hori,\n",
        "            \"rho\": rho,\n",
        "            \"u_vert_target\": u_vert_target,\n",
        "            \"u_hori_target\": u_hori_target,\n",
        "            \"rho_target\": rho_target,\n",
        "            \"datetime\": datetime,\n",
        "        }"
      ]
    },
    {
      "cell_type": "code",
      "execution_count": null,
      "metadata": {
        "id": "nhjZS9lW8Ml9"
      },
      "outputs": [],
      "source": [
        "class WeatherDataset(torch.utils.data.Dataset):\n",
        "    def __init__(self, src_dir, datetimes, transform, target_transform, margin):\n",
        "        self.src_dir = src_dir\n",
        "        self.input_paths = []\n",
        "        self.target_paths = []\n",
        "        self.datetimes = []\n",
        "        self.margin = margin # this value is the number of streaming layers that reduce the border cells.\n",
        "        # eg. ...                            xxx\n",
        "        #     ...  --(1 Streaming Layer)-->  x.x\n",
        "        #     ...                            xxx\n",
        "        for datetime in datetimes:\n",
        "            self.datetimes.append(datetime.strftime('%Y%m%d%H'))\n",
        "            self.input_paths.append(os.path.join(src_dir, datetime.strftime('%Y%m%d%H.grib2')))\n",
        "            datetime += timedelta(hours=3)\n",
        "            self.target_paths.append(os.path.join(src_dir, datetime.strftime('%Y%m%d%H.grib2')))\n",
        "        self.rhos = []\n",
        "        self.u_horis = []\n",
        "        self.u_verts = []\n",
        "        self.rho_targets = []\n",
        "        self.u_hori_targets = []\n",
        "        self.u_vert_targets = []\n",
        "        self.transform = transform\n",
        "        self.target_transform = target_transform\n",
        "        now = time.time()\n",
        "        for idx in range(len(self.input_paths)):\n",
        "            if (idx+1) % 100 == 0:\n",
        "                print(f'{idx+1} samples collected, {time.time() - now:.2f} s')\n",
        "                now = time.time()\n",
        "            input_grib = pygrib.open(self.input_paths[idx])\n",
        "            rho = torch.from_numpy(np.array(input_grib.select()[0].values, dtype=np.float32)).to(device)\n",
        "            u_hori = torch.from_numpy(np.array(input_grib.select()[1].values, dtype=np.float32)).to(device)\n",
        "            u_vert = torch.from_numpy(np.array(input_grib.select()[2].values, dtype=np.float32)).to(device)\n",
        "            target_grib = pygrib.open(self.target_paths[idx])\n",
        "            rho_target = torch.from_numpy(np.array(target_grib.select()[0].values, dtype=np.float32)).to(device)\n",
        "            u_hori_target = torch.from_numpy(np.array(target_grib.select()[1].values, dtype=np.float32)).to(device)\n",
        "            u_vert_target = torch.from_numpy(np.array(target_grib.select()[2].values, dtype=np.float32)).to(device)\n",
        "            self.rhos.append(rho)\n",
        "            self.u_horis.append(u_hori)\n",
        "            self.u_verts.append(u_vert)\n",
        "            self.rho_targets.append(rho_target)\n",
        "            self.u_hori_targets.append(u_hori_target)\n",
        "            self.u_vert_targets.append(u_vert_target)\n",
        "    \n",
        "    def __len__(self):\n",
        "        return len(self.input_paths)\n",
        "    \n",
        "    def __getitem__(self, idx):\n",
        "        datetime = self.datetimes[idx]\n",
        "        u_vert, u_hori, rho = self.transform(self.u_verts[idx], self.u_horis[idx], self.rhos[idx])\n",
        "        u_vert_target, u_hori_target, rho_target = self.target_transform(self.u_vert_targets[idx], self.u_hori_targets[idx], self.rho_targets[idx], self.margin)\n",
        "        return {\n",
        "            \"u_vert\": u_vert,\n",
        "            \"u_hori\": u_hori,\n",
        "            \"rho\": rho,\n",
        "            \"u_vert_target\": u_vert_target,\n",
        "            \"u_hori_target\": u_hori_target,\n",
        "            \"rho_target\": rho_target,\n",
        "            \"datetime\": datetime\n",
        "        }"
      ]
    },
    {
      "cell_type": "code",
      "execution_count": null,
      "metadata": {
        "colab": {
          "base_uri": "https://localhost:8080/"
        },
        "id": "w0TlxIcKsev_",
        "outputId": "e1d26de0-ebe7-4bf6-9d9a-07b496bf1343"
      },
      "outputs": [
        {
          "name": "stdout",
          "output_type": "stream",
          "text": [
            "2\n",
            "False\n",
            "torch.Size([505, 481])\n"
          ]
        }
      ],
      "source": [
        "# test for WeatherDataset\n",
        "def test_for_weatherdataset():\n",
        "    datetimeset = [dt.datetime(2011, 7, 1), dt.datetime(2011, 7, 2)]\n",
        "    grib = pygrib.open('/content/drive/MyDrive/lab_data/data/2011070103.grib2')\n",
        "    u_vert = np.array(grib.select()[2].values, dtype=np.float32)\n",
        "    src_dir = '/content/drive/MyDrive/lab_data/data/'\n",
        "    weather_dataset = WeatherDataset(src_dir, datetimeset, transform, target_transform, 1)\n",
        "    u_vert_direct = torch.from_numpy(u_vert).to(device)\n",
        "    u_vert_target = weather_dataset.__getitem__(0)['u_vert_target']\n",
        "    print(weather_dataset.__len__()) # 2\n",
        "    print(torch.equal(u_vert_target, u_vert_direct[1:-1, 1:-1] * -0.01)) # True\n",
        "    print(u_vert_direct.size())\n",
        "\n",
        "test_for_weatherdataset()"
      ]
    },
    {
      "cell_type": "markdown",
      "metadata": {
        "id": "iYE-xJkDExDu"
      },
      "source": [
        "### Dataloader"
      ]
    },
    {
      "cell_type": "code",
      "execution_count": null,
      "metadata": {
        "colab": {
          "base_uri": "https://localhost:8080/"
        },
        "id": "cEypdBd3EN28",
        "outputId": "145ade04-7b4e-40f9-b519-e0e924415a16"
      },
      "outputs": [
        {
          "name": "stdout",
          "output_type": "stream",
          "text": [
            "Creating a dataset and dataloader...\n",
            "100 samples collected, 8.90 s\n",
            "200 samples collected, 7.99 s\n",
            "300 samples collected, 5.20 s\n",
            "400 samples collected, 5.10 s\n",
            "500 samples collected, 5.13 s\n",
            "600 samples collected, 5.20 s\n",
            "700 samples collected, 6.44 s\n",
            "800 samples collected, 6.21 s\n",
            "900 samples collected, 5.28 s\n"
          ]
        }
      ],
      "source": [
        "def make_dataset_and_dataloader():\n",
        "    print('Creating a dataset and dataloader...')\n",
        "    data_dir = '/content/drive/MyDrive/lab_data/data'\n",
        "    datetimeset = [dt.datetime(2011+i, 7, 1, 0) + timedelta(days=j) for i in range(10) for j in range(92)]\n",
        "    dataset = WeatherDataset(data_dir, datetimeset, transform, target_transform, LBMwithNoisyInit.margin)\n",
        "    batch_size = 1\n",
        "    train_split = 0.8\n",
        "    shuffle_dataset = True # if false, this model will learn only by the 'past' data, and forcast the 'future' data.\n",
        "    random_seed = 42\n",
        "    \n",
        "    dataset_size =  len(dataset)\n",
        "    indices = list(range(dataset_size))\n",
        "    split = int(np.floor(train_split * dataset_size))\n",
        "    if shuffle_dataset:\n",
        "        np.random.seed(random_seed)\n",
        "        np.random.shuffle(indices)\n",
        "    train_indices, valid_indices = indices[:split], indices[split:]\n",
        "    \n",
        "    train_sampler = SubsetRandomSampler(train_indices)\n",
        "    valid_sampler = SubsetRandomSampler(valid_indices)\n",
        "    \n",
        "    train_loader = DataLoader(dataset, batch_size=batch_size, sampler=train_sampler, num_workers=0)\n",
        "    valid_loader = DataLoader(dataset, batch_size=batch_size, sampler=valid_sampler, num_workers=0)\n",
        "\n",
        "    return dataset, train_loader, valid_loader\n",
        "\n",
        "dataset, train_loader, valid_loader = make_dataset_and_dataloader()"
      ]
    },
    {
      "cell_type": "markdown",
      "metadata": {
        "id": "dnq5AMAQFC_E"
      },
      "source": [
        "# Main"
      ]
    },
    {
      "cell_type": "markdown",
      "metadata": {
        "id": "aVw9FGDxchOx"
      },
      "source": [
        "### Loss func"
      ]
    },
    {
      "cell_type": "code",
      "execution_count": null,
      "metadata": {
        "id": "C4tT4O7lsTiD"
      },
      "outputs": [],
      "source": [
        "def loss_func(pred: Dict[str, torch.Tensor], batch: Dict[str, torch.Tensor]):\n",
        "    # MSE\n",
        "    u_vert_loss = torch.sum(torch.square(pred['u_vert'] - batch['u_vert_target'].squeeze())) * U_MSE_COEF\n",
        "    u_hori_loss = torch.sum(torch.square(pred['u_hori'] - batch['u_hori_target'].squeeze())) * U_MSE_COEF\n",
        "    rho_loss = torch.sum(torch.square(pred['rho'] - batch['rho_target'].squeeze())) * RHO_MSE_COEF\n",
        "\n",
        "    # MAE\n",
        "    u_vert_mae = torch.sum(torch.abs(pred['u_vert'] - batch['u_vert_target'].squeeze())) / (U_COEF * HEIGHT * WIDTH) # actual MAE (m/s) per cell\n",
        "    u_hori_mae = torch.sum(torch.abs(pred['u_hori'] - batch['u_hori_target'].squeeze())) / (U_COEF * HEIGHT * WIDTH)\n",
        "    rho_mae = torch.sum(torch.abs(pred['rho'] - batch['rho_target'].squeeze())) / (RHO_COEF * HEIGHT * WIDTH * 100.) # hPa\n",
        "\n",
        "    return {\n",
        "        'u_vert': u_vert_loss,\n",
        "        'u_hori': u_hori_loss,\n",
        "        'rho': rho_loss,\n",
        "        'total': u_vert_loss + u_hori_loss + rho_loss,\n",
        "        'u_vert_mae': u_vert_mae,\n",
        "        'u_hori_mae': u_hori_mae,\n",
        "        'rho_mae': rho_mae\n",
        "    }"
      ]
    },
    {
      "cell_type": "markdown",
      "metadata": {
        "id": "m5DW8w59ckQQ"
      },
      "source": [
        "### Metrics"
      ]
    },
    {
      "cell_type": "code",
      "execution_count": null,
      "metadata": {
        "id": "wV08pZahFfJE"
      },
      "outputs": [],
      "source": [
        "class WeightDiffLogger:\n",
        "    def __init__(self):\n",
        "        pass\n",
        "\n",
        "    def memorize(self, lbm: LBMwithNoisyInit):\n",
        "        self.prev_tensors = {\n",
        "            'streaming1_w0': lbm.streaming1_layer.w0.clone(),\n",
        "            'streaming1_w1': lbm.streaming1_layer.w1.clone(),\n",
        "            'colliding1_w1': lbm.colliding1_layer.w1.clone(),\n",
        "            'colliding1_w2': lbm.colliding1_layer.w2.clone(),\n",
        "            'colliding1_w3': lbm.colliding1_layer.w3.clone(),\n",
        "            'colliding1_w4': lbm.colliding1_layer.w4.clone(),\n",
        "            'colliding1_w5': lbm.colliding1_layer.w5.clone(),\n",
        "            'streaming2_w0': lbm.streaming2_layer.w0.clone(),\n",
        "            'streaming2_w1': lbm.streaming2_layer.w1.clone(),\n",
        "            'colliding2_w1': lbm.colliding2_layer.w1.clone(),\n",
        "            'colliding2_w2': lbm.colliding2_layer.w2.clone(),\n",
        "            'colliding2_w3': lbm.colliding2_layer.w3.clone(),\n",
        "            'colliding2_w4': lbm.colliding2_layer.w4.clone(),\n",
        "            'colliding2_w5': lbm.colliding2_layer.w5.clone(),\n",
        "            'streaming3_w0': lbm.streaming3_layer.w0.clone(),\n",
        "            'streaming3_w1': lbm.streaming3_layer.w1.clone(),\n",
        "            'colliding3_w1': lbm.colliding3_layer.w1.clone(),\n",
        "            'colliding3_w2': lbm.colliding3_layer.w2.clone(),\n",
        "            'colliding3_w3': lbm.colliding3_layer.w3.clone(),\n",
        "            'colliding3_w4': lbm.colliding3_layer.w4.clone(),\n",
        "            'colliding3_w5': lbm.colliding3_layer.w5.clone(),\n",
        "            'streaming4_w0': lbm.streaming4_layer.w0.clone(),\n",
        "            'streaming4_w1': lbm.streaming4_layer.w1.clone(),\n",
        "            'colliding4_w1': lbm.colliding4_layer.w1.clone(),\n",
        "            'colliding4_w2': lbm.colliding4_layer.w2.clone(),\n",
        "            'colliding4_w3': lbm.colliding4_layer.w3.clone(),\n",
        "            'colliding4_w4': lbm.colliding4_layer.w4.clone(),\n",
        "            'colliding4_w5': lbm.colliding4_layer.w5.clone(),\n",
        "            'streaming5_w0': lbm.streaming5_layer.w0.clone(),\n",
        "            'streaming5_w1': lbm.streaming5_layer.w1.clone(),\n",
        "        }\n",
        "\n",
        "    def calc_and_log(self, lbm: LBMwithNoisyInit, writer: SummaryWriter, epoch: int):\n",
        "        with torch.no_grad():\n",
        "            writer.add_scalars(\n",
        "                'weight_diff',\n",
        "                {\n",
        "                    'streaming1_w0': torch.mean(torch.abs(self.prev_tensors['streaming1_w0'] - lbm.streaming1_layer.w0)),\n",
        "                    'streaming1_w1': torch.mean(torch.abs(self.prev_tensors['streaming1_w1'] - lbm.streaming1_layer.w1)),\n",
        "                    'colliding1_w1': torch.mean(torch.abs(self.prev_tensors['colliding1_w1'] - lbm.colliding1_layer.w1)),\n",
        "                    'colliding1_w2': torch.mean(torch.abs(self.prev_tensors['colliding1_w2'] - lbm.colliding1_layer.w2)),\n",
        "                    'colliding1_w3': torch.mean(torch.abs(self.prev_tensors['colliding1_w3'] - lbm.colliding1_layer.w3)),\n",
        "                    'colliding1_w4': torch.mean(torch.abs(self.prev_tensors['colliding1_w4'] - lbm.colliding1_layer.w4)),\n",
        "                    'colliding1_w5': torch.mean(torch.abs(self.prev_tensors['colliding1_w5'] - lbm.colliding1_layer.w5)),\n",
        "                    'streaming2_w0': torch.mean(torch.abs(self.prev_tensors['streaming2_w0'] - lbm.streaming2_layer.w0)),\n",
        "                    'streaming2_w1': torch.mean(torch.abs(self.prev_tensors['streaming2_w1'] - lbm.streaming2_layer.w1)),\n",
        "                    'colliding2_w1': torch.mean(torch.abs(self.prev_tensors['colliding2_w1'] - lbm.colliding2_layer.w1)),\n",
        "                    'colliding2_w2': torch.mean(torch.abs(self.prev_tensors['colliding2_w2'] - lbm.colliding2_layer.w2)),\n",
        "                    'colliding2_w3': torch.mean(torch.abs(self.prev_tensors['colliding2_w3'] - lbm.colliding2_layer.w3)),\n",
        "                    'colliding2_w4': torch.mean(torch.abs(self.prev_tensors['colliding2_w4'] - lbm.colliding2_layer.w4)),\n",
        "                    'colliding2_w5': torch.mean(torch.abs(self.prev_tensors['colliding2_w5'] - lbm.colliding2_layer.w5)),\n",
        "                    'streaming3_w0': torch.mean(torch.abs(self.prev_tensors['streaming3_w0'] - lbm.streaming3_layer.w0)),\n",
        "                    'streaming3_w1': torch.mean(torch.abs(self.prev_tensors['streaming3_w1'] - lbm.streaming3_layer.w1)),\n",
        "                    'colliding3_w1': torch.mean(torch.abs(self.prev_tensors['colliding3_w1'] - lbm.colliding3_layer.w1)),\n",
        "                    'colliding3_w2': torch.mean(torch.abs(self.prev_tensors['colliding3_w2'] - lbm.colliding3_layer.w2)),\n",
        "                    'colliding3_w3': torch.mean(torch.abs(self.prev_tensors['colliding3_w3'] - lbm.colliding3_layer.w3)),\n",
        "                    'colliding3_w4': torch.mean(torch.abs(self.prev_tensors['colliding3_w4'] - lbm.colliding3_layer.w4)),\n",
        "                    'colliding3_w5': torch.mean(torch.abs(self.prev_tensors['colliding3_w5'] - lbm.colliding3_layer.w5)),\n",
        "                    'streaming4_w0': torch.mean(torch.abs(self.prev_tensors['streaming4_w0'] - lbm.streaming4_layer.w0)),\n",
        "                    'streaming4_w1': torch.mean(torch.abs(self.prev_tensors['streaming4_w1'] - lbm.streaming4_layer.w1)),\n",
        "                    'colliding4_w1': torch.mean(torch.abs(self.prev_tensors['colliding4_w1'] - lbm.colliding4_layer.w1)),\n",
        "                    'colliding4_w2': torch.mean(torch.abs(self.prev_tensors['colliding4_w2'] - lbm.colliding4_layer.w2)),\n",
        "                    'colliding4_w3': torch.mean(torch.abs(self.prev_tensors['colliding4_w3'] - lbm.colliding4_layer.w3)),\n",
        "                    'colliding4_w4': torch.mean(torch.abs(self.prev_tensors['colliding4_w4'] - lbm.colliding4_layer.w4)),\n",
        "                    'colliding4_w5': torch.mean(torch.abs(self.prev_tensors['colliding4_w5'] - lbm.colliding4_layer.w5)),\n",
        "                    'streaming5_w0': torch.mean(torch.abs(self.prev_tensors['streaming5_w0'] - lbm.streaming5_layer.w0)),\n",
        "                    'streaming5_w1': torch.mean(torch.abs(self.prev_tensors['streaming5_w1'] - lbm.streaming5_layer.w1)),\n",
        "                },\n",
        "                epoch\n",
        "            )"
      ]
    },
    {
      "cell_type": "code",
      "execution_count": null,
      "metadata": {
        "id": "ivMsz7HodASq"
      },
      "outputs": [],
      "source": [
        "def log_typhoon_forcast(pred: Dict[str, torch.Tensor], batch: Dict[str, torch.Tensor], writer: SummaryWriter, epoch: int):\n",
        "    if batch['datetime'][0] == '2020090200' and (epoch+1) % 5 == 0:\n",
        "        with torch.no_grad():\n",
        "            u_vert_in_trimmed, u_hori_in_trimmed, _ = remove_margin(batch['u_vert'].squeeze(), batch['u_hori'].squeeze(), batch['rho'].squeeze(), LBMwithNoisyInit.margin)\n",
        "            heatmap = torch.sqrt((pred['u_vert'] - batch['u_vert_target'].squeeze()) ** 2.0\\\n",
        "                                + (pred['u_hori'] - batch['u_hori_target'].squeeze()) ** 2.0)\\\n",
        "                    - torch.sqrt((u_vert_in_trimmed - batch['u_vert_target'].squeeze()) ** 2.0\\\n",
        "                                + (u_hori_in_trimmed - batch['u_hori_target'].squeeze()) ** 2.0)\n",
        "            fig = plt.figure()\n",
        "            sns.heatmap(heatmap.cpu().detach().numpy(), vmin=-0.15, vmax=0.15, cmap='bwr')\n",
        "            writer.add_figure(tag='typhoon forcast', figure=fig, global_step=epoch)"
      ]
    },
    {
      "cell_type": "code",
      "execution_count": null,
      "metadata": {
        "id": "ZRWq1H3otPnu"
      },
      "outputs": [],
      "source": [
        "class Loss:\n",
        "    def __init__(self):\n",
        "        self.losses_train = {'u_vert': 0.0, 'u_hori': 0.0, 'rho': 0.0, 'total': 0.0, 'u_vert_mae': 0.0, 'u_hori_mae': 0.0, 'rho_mae': 0.0}\n",
        "        self.losses_val = {'u_vert': 0.0, 'u_hori': 0.0, 'rho': 0.0, 'total': 0.0, 'u_vert_mae': 0.0, 'u_hori_mae': 0.0, 'rho_mae': 0.0}\n",
        "        self.train_count = 0\n",
        "        self.val_count = 0\n",
        "\n",
        "    def add_losses_train(self, losses: Dict[str, torch.Tensor]):\n",
        "        self.train_count += 1\n",
        "        for k in self.losses_train.keys():\n",
        "            self.losses_train[k] += losses[k].item()\n",
        "\n",
        "    def add_losses_val(self, losses: Dict[str, torch.Tensor]):\n",
        "        self.val_count += 1\n",
        "        for k in self.losses_val.keys():\n",
        "            self.losses_val[k] += losses[k].item()\n",
        "\n",
        "    def get_losses_train(self):\n",
        "        return {\n",
        "            k: self.losses_train[k] / self.train_count for k in self.losses_train.keys()\n",
        "        }\n",
        "\n",
        "    def get_losses_val(self):\n",
        "        return {\n",
        "            k: self.losses_val[k] / self.val_count for k in self.losses_val.keys()\n",
        "        }\n",
        "\n",
        "    def log(self, writer: SummaryWriter, epoch: int, tag: str, keys: List[str], prefix: str = ''):\n",
        "        d = {}\n",
        "        losses_train = self.get_losses_train()\n",
        "        losses_val = self.get_losses_val()\n",
        "        for k in keys:\n",
        "            d[f'{prefix}train_{k}'] = losses_train[k]\n",
        "            d[f'{prefix}test_{k}'] = losses_val[k]\n",
        "\n",
        "        writer.add_scalars(\n",
        "            tag,\n",
        "            d,\n",
        "            epoch\n",
        "        )"
      ]
    },
    {
      "cell_type": "markdown",
      "metadata": {
        "id": "BWgHQiVoBC8Q"
      },
      "source": [
        "### calc MAE of datasets"
      ]
    },
    {
      "cell_type": "code",
      "execution_count": null,
      "metadata": {
        "id": "-Y5B4A5FAwza"
      },
      "outputs": [],
      "source": [
        "def calc_losses_between_0h3h(train_loader, valid_loader):\n",
        "    loss = Loss()\n",
        "    for (batch_idx, batch) in enumerate(train_loader):\n",
        "        u_vert_input, u_hori_input, rho_input = remove_margin(\n",
        "            batch['u_vert'].squeeze(), batch['u_hori'].squeeze(), batch['rho'].squeeze(), LBMwithNoisyInit.margin\n",
        "        )\n",
        "        loss_vals = loss_func({\n",
        "            'u_vert': u_vert_input,\n",
        "            'u_hori': u_hori_input,\n",
        "            'rho': rho_input\n",
        "        }, batch)\n",
        "        loss.add_losses_train(loss_vals)\n",
        "\n",
        "    for (batch_idx, batch) in enumerate(valid_loader):\n",
        "        u_vert_input, u_hori_input, rho_input = remove_margin(\n",
        "            batch['u_vert'].squeeze(), batch['u_hori'].squeeze(), batch['rho'].squeeze(), LBMwithNoisyInit.margin\n",
        "        )\n",
        "        loss_vals = loss_func({\n",
        "            'u_vert': u_vert_input,\n",
        "            'u_hori': u_hori_input,\n",
        "            'rho': rho_input\n",
        "        }, batch)\n",
        "        loss.add_losses_val(loss_vals)\n",
        "\n",
        "    return loss"
      ]
    },
    {
      "cell_type": "markdown",
      "metadata": {
        "id": "KaV-5SghcogH"
      },
      "source": [
        "### Main"
      ]
    },
    {
      "cell_type": "code",
      "execution_count": null,
      "metadata": {
        "colab": {
          "background_save": true,
          "base_uri": "https://localhost:8080/"
        },
        "id": "rQXqhgwqsitM",
        "outputId": "4a021670-dab6-4843-958e-459f0c0536d6"
      },
      "outputs": [
        {
          "name": "stdout",
          "output_type": "stream",
          "text": [
            "Calc losses between 0h and 3h...\n",
            "train u_vert mae: 1.1112427019878575 m/s\n",
            "train u_hori mae: 1.0288740297698455 m/s\n",
            "train rho mae: 0.7113683552521727 hPa\n",
            "val u_vert mae: 1.0980090366109558 m/s\n",
            "val u_hori mae: 1.0207934680840243 m/s\n",
            "val rho mae: 0.7064201222813647 hPa\n",
            "Creating the model...\n",
            "optimizer = Adam (\n",
            "Parameter Group 0\n",
            "    amsgrad: False\n",
            "    betas: (0.9, 0.999)\n",
            "    capturable: False\n",
            "    differentiable: False\n",
            "    eps: 1e-08\n",
            "    foreach: None\n",
            "    fused: False\n",
            "    lr: 0.001\n",
            "    maximize: False\n",
            "    weight_decay: 0\n",
            ")\n",
            "max_epochs = 350 \n",
            "summary writer's logdir = /content/drive/MyDrive/lab_data/logs/20221230_080752\n",
            "Training the model...\n",
            "epoch =    0  train_loss = 1.2670e+06  val_loss = 1.2184e+06  u_vert_loss = 5.7380e+05  u_hori_loss = 5.1381e+05  rho_loss = 1.3075e+05  epoch time = 45.66s\n",
            "epoch =    1  train_loss = 1.2343e+06  val_loss = 1.2133e+06  u_vert_loss = 5.7025e+05  u_hori_loss = 5.0970e+05  rho_loss = 1.3340e+05  epoch time = 44.74s\n",
            "epoch =    2  train_loss = 1.2232e+06  val_loss = 1.2075e+06  u_vert_loss = 5.6786e+05  u_hori_loss = 5.0870e+05  rho_loss = 1.3097e+05  epoch time = 44.58s\n",
            "epoch =    3  train_loss = 1.2151e+06  val_loss = 1.2058e+06  u_vert_loss = 5.6590e+05  u_hori_loss = 5.0728e+05  rho_loss = 1.3257e+05  epoch time = 44.65s\n",
            "epoch =    4  train_loss = 1.2091e+06  val_loss = 1.2063e+06  u_vert_loss = 5.6397e+05  u_hori_loss = 5.0568e+05  rho_loss = 1.3665e+05  epoch time = 46.82s\n",
            "epoch =    5  train_loss = 1.2047e+06  val_loss = 1.1980e+06  u_vert_loss = 5.6229e+05  u_hori_loss = 5.0494e+05  rho_loss = 1.3078e+05  epoch time = 44.95s\n",
            "epoch =    6  train_loss = 1.2004e+06  val_loss = 1.1975e+06  u_vert_loss = 5.6136e+05  u_hori_loss = 5.0429e+05  rho_loss = 1.3180e+05  epoch time = 45.10s\n",
            "epoch =    7  train_loss = 1.1969e+06  val_loss = 1.1999e+06  u_vert_loss = 5.6150e+05  u_hori_loss = 5.0427e+05  rho_loss = 1.3409e+05  epoch time = 44.71s\n",
            "epoch =    8  train_loss = 1.1941e+06  val_loss = 1.1854e+06  u_vert_loss = 5.6067e+05  u_hori_loss = 5.0320e+05  rho_loss = 1.2150e+05  epoch time = 44.59s\n",
            "epoch =    9  train_loss = 1.1911e+06  val_loss = 1.1826e+06  u_vert_loss = 5.5973e+05  u_hori_loss = 5.0261e+05  rho_loss = 1.2026e+05  epoch time = 46.79s\n",
            "epoch =   10  train_loss = 1.1890e+06  val_loss = 1.1748e+06  u_vert_loss = 5.5934e+05  u_hori_loss = 5.0200e+05  rho_loss = 1.1350e+05  epoch time = 44.61s\n",
            "epoch =   11  train_loss = 1.1864e+06  val_loss = 1.1819e+06  u_vert_loss = 5.5856e+05  u_hori_loss = 5.0131e+05  rho_loss = 1.2204e+05  epoch time = 44.75s\n",
            "epoch =   12  train_loss = 1.1843e+06  val_loss = 1.1755e+06  u_vert_loss = 5.5816e+05  u_hori_loss = 5.0149e+05  rho_loss = 1.1584e+05  epoch time = 44.55s\n",
            "epoch =   13  train_loss = 1.1826e+06  val_loss = 1.1773e+06  u_vert_loss = 5.5803e+05  u_hori_loss = 5.0132e+05  rho_loss = 1.1795e+05  epoch time = 44.57s\n",
            "epoch =   14  train_loss = 1.1806e+06  val_loss = 1.1747e+06  u_vert_loss = 5.5750e+05  u_hori_loss = 5.0066e+05  rho_loss = 1.1649e+05  epoch time = 45.25s\n",
            "epoch =   15  train_loss = 1.1788e+06  val_loss = 1.1728e+06  u_vert_loss = 5.5692e+05  u_hori_loss = 5.0006e+05  rho_loss = 1.1587e+05  epoch time = 46.43s\n",
            "epoch =   16  train_loss = 1.1770e+06  val_loss = 1.1765e+06  u_vert_loss = 5.5739e+05  u_hori_loss = 5.0074e+05  rho_loss = 1.1835e+05  epoch time = 44.64s\n",
            "epoch =   17  train_loss = 1.1761e+06  val_loss = 1.1717e+06  u_vert_loss = 5.5711e+05  u_hori_loss = 4.9985e+05  rho_loss = 1.1474e+05  epoch time = 44.63s\n",
            "epoch =   18  train_loss = 1.1749e+06  val_loss = 1.1719e+06  u_vert_loss = 5.5679e+05  u_hori_loss = 4.9968e+05  rho_loss = 1.1540e+05  epoch time = 44.39s\n",
            "epoch =   19  train_loss = 1.1731e+06  val_loss = 1.1702e+06  u_vert_loss = 5.5713e+05  u_hori_loss = 4.9945e+05  rho_loss = 1.1360e+05  epoch time = 44.86s\n",
            "epoch =   20  train_loss = 1.1728e+06  val_loss = 1.1695e+06  u_vert_loss = 5.5602e+05  u_hori_loss = 4.9964e+05  rho_loss = 1.1380e+05  epoch time = 45.94s\n",
            "epoch =   21  train_loss = 1.1720e+06  val_loss = 1.1624e+06  u_vert_loss = 5.5598e+05  u_hori_loss = 4.9876e+05  rho_loss = 1.0767e+05  epoch time = 44.56s\n",
            "epoch =   22  train_loss = 1.1702e+06  val_loss = 1.1727e+06  u_vert_loss = 5.5662e+05  u_hori_loss = 4.9966e+05  rho_loss = 1.1644e+05  epoch time = 44.83s\n",
            "epoch =   23  train_loss = 1.1698e+06  val_loss = 1.1576e+06  u_vert_loss = 5.5539e+05  u_hori_loss = 4.9874e+05  rho_loss = 1.0350e+05  epoch time = 44.56s\n",
            "epoch =   24  train_loss = 1.1693e+06  val_loss = 1.1664e+06  u_vert_loss = 5.5599e+05  u_hori_loss = 4.9880e+05  rho_loss = 1.1162e+05  epoch time = 44.96s\n",
            "epoch =   25  train_loss = 1.1681e+06  val_loss = 1.1599e+06  u_vert_loss = 5.5562e+05  u_hori_loss = 4.9762e+05  rho_loss = 1.0667e+05  epoch time = 45.82s\n",
            "epoch =   26  train_loss = 1.1671e+06  val_loss = 1.1616e+06  u_vert_loss = 5.5502e+05  u_hori_loss = 4.9869e+05  rho_loss = 1.0789e+05  epoch time = 44.41s\n",
            "epoch =   27  train_loss = 1.1664e+06  val_loss = 1.1540e+06  u_vert_loss = 5.5480e+05  u_hori_loss = 4.9830e+05  rho_loss = 1.0087e+05  epoch time = 44.39s\n",
            "epoch =   28  train_loss = 1.1659e+06  val_loss = 1.1573e+06  u_vert_loss = 5.5554e+05  u_hori_loss = 4.9793e+05  rho_loss = 1.0379e+05  epoch time = 44.46s\n",
            "epoch =   29  train_loss = 1.1652e+06  val_loss = 1.1563e+06  u_vert_loss = 5.5516e+05  u_hori_loss = 4.9770e+05  rho_loss = 1.0345e+05  epoch time = 44.86s\n",
            "epoch =   30  train_loss = 1.1641e+06  val_loss = 1.1503e+06  u_vert_loss = 5.5451e+05  u_hori_loss = 4.9743e+05  rho_loss = 9.8358e+04  epoch time = 45.58s\n",
            "epoch =   31  train_loss = 1.1637e+06  val_loss = 1.1643e+06  u_vert_loss = 5.5538e+05  u_hori_loss = 4.9838e+05  rho_loss = 1.1055e+05  epoch time = 44.38s\n",
            "epoch =   32  train_loss = 1.1633e+06  val_loss = 1.1535e+06  u_vert_loss = 5.5479e+05  u_hori_loss = 4.9813e+05  rho_loss = 1.0052e+05  epoch time = 44.34s\n",
            "epoch =   33  train_loss = 1.1626e+06  val_loss = 1.1579e+06  u_vert_loss = 5.5449e+05  u_hori_loss = 4.9830e+05  rho_loss = 1.0510e+05  epoch time = 44.52s\n",
            "epoch =   34  train_loss = 1.1624e+06  val_loss = 1.1584e+06  u_vert_loss = 5.5520e+05  u_hori_loss = 4.9724e+05  rho_loss = 1.0597e+05  epoch time = 44.80s\n",
            "epoch =   35  train_loss = 1.1615e+06  val_loss = 1.1553e+06  u_vert_loss = 5.5518e+05  u_hori_loss = 4.9780e+05  rho_loss = 1.0228e+05  epoch time = 44.42s\n",
            "epoch =   36  train_loss = 1.1607e+06  val_loss = 1.1529e+06  u_vert_loss = 5.5426e+05  u_hori_loss = 4.9725e+05  rho_loss = 1.0141e+05  epoch time = 45.90s\n",
            "epoch =   37  train_loss = 1.1606e+06  val_loss = 1.1528e+06  u_vert_loss = 5.5453e+05  u_hori_loss = 4.9716e+05  rho_loss = 1.0106e+05  epoch time = 44.30s\n",
            "epoch =   38  train_loss = 1.1603e+06  val_loss = 1.1552e+06  u_vert_loss = 5.5456e+05  u_hori_loss = 4.9715e+05  rho_loss = 1.0352e+05  epoch time = 44.50s\n",
            "epoch =   39  train_loss = 1.1597e+06  val_loss = 1.1524e+06  u_vert_loss = 5.5417e+05  u_hori_loss = 4.9734e+05  rho_loss = 1.0090e+05  epoch time = 44.99s\n",
            "epoch =   40  train_loss = 1.1588e+06  val_loss = 1.1588e+06  u_vert_loss = 5.5473e+05  u_hori_loss = 4.9705e+05  rho_loss = 1.0700e+05  epoch time = 44.36s\n",
            "epoch =   41  train_loss = 1.1585e+06  val_loss = 1.1534e+06  u_vert_loss = 5.5457e+05  u_hori_loss = 4.9722e+05  rho_loss = 1.0158e+05  epoch time = 45.40s\n",
            "epoch =   42  train_loss = 1.1582e+06  val_loss = 1.1559e+06  u_vert_loss = 5.5468e+05  u_hori_loss = 4.9745e+05  rho_loss = 1.0378e+05  epoch time = 44.42s\n",
            "epoch =   43  train_loss = 1.1573e+06  val_loss = 1.1516e+06  u_vert_loss = 5.5416e+05  u_hori_loss = 4.9722e+05  rho_loss = 1.0025e+05  epoch time = 44.29s\n",
            "epoch =   44  train_loss = 1.1568e+06  val_loss = 1.1534e+06  u_vert_loss = 5.5451e+05  u_hori_loss = 4.9718e+05  rho_loss = 1.0176e+05  epoch time = 44.82s\n",
            "epoch =   45  train_loss = 1.1567e+06  val_loss = 1.1609e+06  u_vert_loss = 5.5474e+05  u_hori_loss = 4.9717e+05  rho_loss = 1.0897e+05  epoch time = 44.30s\n",
            "epoch =   46  train_loss = 1.1560e+06  val_loss = 1.1445e+06  u_vert_loss = 5.5395e+05  u_hori_loss = 4.9613e+05  rho_loss = 9.4410e+04  epoch time = 45.72s\n",
            "epoch =   47  train_loss = 1.1552e+06  val_loss = 1.1515e+06  u_vert_loss = 5.5427e+05  u_hori_loss = 4.9679e+05  rho_loss = 1.0039e+05  epoch time = 44.38s\n",
            "epoch =   48  train_loss = 1.1551e+06  val_loss = 1.1552e+06  u_vert_loss = 5.5455e+05  u_hori_loss = 4.9657e+05  rho_loss = 1.0409e+05  epoch time = 44.73s\n",
            "epoch =   49  train_loss = 1.1550e+06  val_loss = 1.1495e+06  u_vert_loss = 5.5389e+05  u_hori_loss = 4.9648e+05  rho_loss = 9.9155e+04  epoch time = 45.52s\n",
            "epoch =   50  train_loss = 1.1548e+06  val_loss = 1.1618e+06  u_vert_loss = 5.5425e+05  u_hori_loss = 4.9645e+05  rho_loss = 1.1109e+05  epoch time = 44.38s\n",
            "epoch =   51  train_loss = 1.1551e+06  val_loss = 1.1419e+06  u_vert_loss = 5.5331e+05  u_hori_loss = 4.9677e+05  rho_loss = 9.1862e+04  epoch time = 44.37s\n",
            "epoch =   52  train_loss = 1.1537e+06  val_loss = 1.1520e+06  u_vert_loss = 5.5323e+05  u_hori_loss = 4.9698e+05  rho_loss = 1.0182e+05  epoch time = 46.01s\n",
            "epoch =   53  train_loss = 1.1534e+06  val_loss = 1.1478e+06  u_vert_loss = 5.5385e+05  u_hori_loss = 4.9641e+05  rho_loss = 9.7553e+04  epoch time = 44.32s\n",
            "epoch =   54  train_loss = 1.1531e+06  val_loss = 1.1461e+06  u_vert_loss = 5.5428e+05  u_hori_loss = 4.9628e+05  rho_loss = 9.5514e+04  epoch time = 44.68s\n",
            "epoch =   55  train_loss = 1.1533e+06  val_loss = 1.1519e+06  u_vert_loss = 5.5385e+05  u_hori_loss = 4.9587e+05  rho_loss = 1.0218e+05  epoch time = 44.28s\n",
            "epoch =   56  train_loss = 1.1528e+06  val_loss = 1.1461e+06  u_vert_loss = 5.5332e+05  u_hori_loss = 4.9555e+05  rho_loss = 9.7221e+04  epoch time = 44.31s\n",
            "epoch =   57  train_loss = 1.1524e+06  val_loss = 1.1511e+06  u_vert_loss = 5.5416e+05  u_hori_loss = 4.9638e+05  rho_loss = 1.0057e+05  epoch time = 45.67s\n",
            "epoch =   58  train_loss = 1.1528e+06  val_loss = 1.1434e+06  u_vert_loss = 5.5363e+05  u_hori_loss = 4.9631e+05  rho_loss = 9.3458e+04  epoch time = 44.26s\n",
            "epoch =   59  train_loss = 1.1512e+06  val_loss = 1.1421e+06  u_vert_loss = 5.5277e+05  u_hori_loss = 4.9526e+05  rho_loss = 9.4079e+04  epoch time = 44.76s\n",
            "epoch =   60  train_loss = 1.1513e+06  val_loss = 1.1470e+06  u_vert_loss = 5.5362e+05  u_hori_loss = 4.9587e+05  rho_loss = 9.7472e+04  epoch time = 44.27s\n",
            "epoch =   61  train_loss = 1.1513e+06  val_loss = 1.1468e+06  u_vert_loss = 5.5316e+05  u_hori_loss = 4.9591e+05  rho_loss = 9.7732e+04  epoch time = 44.29s\n",
            "epoch =   62  train_loss = 1.1507e+06  val_loss = 1.1428e+06  u_vert_loss = 5.5310e+05  u_hori_loss = 4.9541e+05  rho_loss = 9.4336e+04  epoch time = 46.11s\n",
            "epoch =   63  train_loss = 1.1501e+06  val_loss = 1.1409e+06  u_vert_loss = 5.5336e+05  u_hori_loss = 4.9535e+05  rho_loss = 9.2162e+04  epoch time = 44.34s\n",
            "epoch =   64  train_loss = 1.1501e+06  val_loss = 1.1435e+06  u_vert_loss = 5.5262e+05  u_hori_loss = 4.9535e+05  rho_loss = 9.5541e+04  epoch time = 44.91s\n",
            "epoch =   65  train_loss = 1.1497e+06  val_loss = 1.1465e+06  u_vert_loss = 5.5319e+05  u_hori_loss = 4.9533e+05  rho_loss = 9.7965e+04  epoch time = 44.37s\n",
            "epoch =   66  train_loss = 1.1502e+06  val_loss = 1.1522e+06  u_vert_loss = 5.5370e+05  u_hori_loss = 4.9600e+05  rho_loss = 1.0248e+05  epoch time = 44.30s\n",
            "epoch =   67  train_loss = 1.1491e+06  val_loss = 1.1433e+06  u_vert_loss = 5.5404e+05  u_hori_loss = 4.9557e+05  rho_loss = 9.3648e+04  epoch time = 44.37s\n",
            "epoch =   68  train_loss = 1.1484e+06  val_loss = 1.1529e+06  u_vert_loss = 5.5286e+05  u_hori_loss = 4.9554e+05  rho_loss = 1.0448e+05  epoch time = 45.67s\n",
            "epoch =   69  train_loss = 1.1491e+06  val_loss = 1.1454e+06  u_vert_loss = 5.5365e+05  u_hori_loss = 4.9559e+05  rho_loss = 9.6122e+04  epoch time = 44.84s\n",
            "epoch =   70  train_loss = 1.1480e+06  val_loss = 1.1516e+06  u_vert_loss = 5.5369e+05  u_hori_loss = 4.9573e+05  rho_loss = 1.0218e+05  epoch time = 44.34s\n",
            "epoch =   71  train_loss = 1.1476e+06  val_loss = 1.1458e+06  u_vert_loss = 5.5272e+05  u_hori_loss = 4.9587e+05  rho_loss = 9.7212e+04  epoch time = 44.41s\n",
            "epoch =   72  train_loss = 1.1478e+06  val_loss = 1.1482e+06  u_vert_loss = 5.5286e+05  u_hori_loss = 4.9548e+05  rho_loss = 9.9824e+04  epoch time = 44.43s\n",
            "epoch =   73  train_loss = 1.1472e+06  val_loss = 1.1388e+06  u_vert_loss = 5.5245e+05  u_hori_loss = 4.9465e+05  rho_loss = 9.1665e+04  epoch time = 45.42s\n",
            "epoch =   74  train_loss = 1.1474e+06  val_loss = 1.1608e+06  u_vert_loss = 5.5286e+05  u_hori_loss = 4.9479e+05  rho_loss = 1.1317e+05  epoch time = 44.73s\n",
            "epoch =   75  train_loss = 1.1474e+06  val_loss = 1.1443e+06  u_vert_loss = 5.5284e+05  u_hori_loss = 4.9503e+05  rho_loss = 9.6398e+04  epoch time = 44.33s\n",
            "epoch =   76  train_loss = 1.1468e+06  val_loss = 1.1403e+06  u_vert_loss = 5.5210e+05  u_hori_loss = 4.9491e+05  rho_loss = 9.3268e+04  epoch time = 44.43s\n",
            "epoch =   77  train_loss = 1.1465e+06  val_loss = 1.1479e+06  u_vert_loss = 5.5283e+05  u_hori_loss = 4.9552e+05  rho_loss = 9.9525e+04  epoch time = 44.43s\n",
            "epoch =   78  train_loss = 1.1463e+06  val_loss = 1.1424e+06  u_vert_loss = 5.5282e+05  u_hori_loss = 4.9483e+05  rho_loss = 9.4744e+04  epoch time = 44.29s\n",
            "epoch =   79  train_loss = 1.1461e+06  val_loss = 1.1464e+06  u_vert_loss = 5.5273e+05  u_hori_loss = 4.9516e+05  rho_loss = 9.8558e+04  epoch time = 46.24s\n",
            "epoch =   80  train_loss = 1.1461e+06  val_loss = 1.1371e+06  u_vert_loss = 5.5256e+05  u_hori_loss = 4.9498e+05  rho_loss = 8.9512e+04  epoch time = 44.43s\n",
            "epoch =   81  train_loss = 1.1455e+06  val_loss = 1.1363e+06  u_vert_loss = 5.5220e+05  u_hori_loss = 4.9447e+05  rho_loss = 8.9658e+04  epoch time = 44.29s\n",
            "epoch =   82  train_loss = 1.1452e+06  val_loss = 1.1352e+06  u_vert_loss = 5.5177e+05  u_hori_loss = 4.9446e+05  rho_loss = 8.8989e+04  epoch time = 44.45s\n",
            "epoch =   83  train_loss = 1.1446e+06  val_loss = 1.1429e+06  u_vert_loss = 5.5253e+05  u_hori_loss = 4.9391e+05  rho_loss = 9.6417e+04  epoch time = 44.46s\n",
            "epoch =   84  train_loss = 1.1444e+06  val_loss = 1.1374e+06  u_vert_loss = 5.5212e+05  u_hori_loss = 4.9403e+05  rho_loss = 9.1277e+04  epoch time = 46.09s\n",
            "epoch =   85  train_loss = 1.1437e+06  val_loss = 1.1397e+06  u_vert_loss = 5.5278e+05  u_hori_loss = 4.9493e+05  rho_loss = 9.2001e+04  epoch time = 44.43s\n",
            "epoch =   86  train_loss = 1.1441e+06  val_loss = 1.1441e+06  u_vert_loss = 5.5266e+05  u_hori_loss = 4.9437e+05  rho_loss = 9.7077e+04  epoch time = 44.57s\n",
            "epoch =   87  train_loss = 1.1439e+06  val_loss = 1.1360e+06  u_vert_loss = 5.5212e+05  u_hori_loss = 4.9385e+05  rho_loss = 9.0070e+04  epoch time = 44.57s\n",
            "epoch =   88  train_loss = 1.1440e+06  val_loss = 1.1387e+06  u_vert_loss = 5.5252e+05  u_hori_loss = 4.9459e+05  rho_loss = 9.1609e+04  epoch time = 44.53s\n",
            "epoch =   89  train_loss = 1.1434e+06  val_loss = 1.1380e+06  u_vert_loss = 5.5237e+05  u_hori_loss = 4.9420e+05  rho_loss = 9.1433e+04  epoch time = 45.06s\n",
            "epoch =   90  train_loss = 1.1428e+06  val_loss = 1.1446e+06  u_vert_loss = 5.5248e+05  u_hori_loss = 4.9473e+05  rho_loss = 9.7411e+04  epoch time = 46.19s\n",
            "epoch =   91  train_loss = 1.1428e+06  val_loss = 1.1413e+06  u_vert_loss = 5.5200e+05  u_hori_loss = 4.9444e+05  rho_loss = 9.4849e+04  epoch time = 44.56s\n",
            "epoch =   92  train_loss = 1.1425e+06  val_loss = 1.1365e+06  u_vert_loss = 5.5151e+05  u_hori_loss = 4.9390e+05  rho_loss = 9.1123e+04  epoch time = 44.49s\n",
            "epoch =   93  train_loss = 1.1420e+06  val_loss = 1.1424e+06  u_vert_loss = 5.5220e+05  u_hori_loss = 4.9499e+05  rho_loss = 9.5201e+04  epoch time = 44.62s\n",
            "epoch =   94  train_loss = 1.1424e+06  val_loss = 1.1490e+06  u_vert_loss = 5.5299e+05  u_hori_loss = 4.9442e+05  rho_loss = 1.0158e+05  epoch time = 45.09s\n",
            "epoch =   95  train_loss = 1.1419e+06  val_loss = 1.1326e+06  u_vert_loss = 5.5200e+05  u_hori_loss = 4.9363e+05  rho_loss = 8.6955e+04  epoch time = 45.98s\n",
            "epoch =   96  train_loss = 1.1410e+06  val_loss = 1.1391e+06  u_vert_loss = 5.5171e+05  u_hori_loss = 4.9410e+05  rho_loss = 9.3322e+04  epoch time = 44.86s\n",
            "epoch =   97  train_loss = 1.1414e+06  val_loss = 1.1430e+06  u_vert_loss = 5.5134e+05  u_hori_loss = 4.9363e+05  rho_loss = 9.8037e+04  epoch time = 44.82s\n",
            "epoch =   98  train_loss = 1.1414e+06  val_loss = 1.1442e+06  u_vert_loss = 5.5258e+05  u_hori_loss = 4.9425e+05  rho_loss = 9.7391e+04  epoch time = 44.65s\n",
            "epoch =   99  train_loss = 1.1410e+06  val_loss = 1.1412e+06  u_vert_loss = 5.5276e+05  u_hori_loss = 4.9438e+05  rho_loss = 9.4033e+04  epoch time = 45.53s\n",
            "epoch =  100  train_loss = 1.1408e+06  val_loss = 1.1394e+06  u_vert_loss = 5.5192e+05  u_hori_loss = 4.9439e+05  rho_loss = 9.3119e+04  epoch time = 44.65s\n",
            "epoch =  101  train_loss = 1.1405e+06  val_loss = 1.1489e+06  u_vert_loss = 5.5286e+05  u_hori_loss = 4.9429e+05  rho_loss = 1.0171e+05  epoch time = 45.73s\n",
            "epoch =  102  train_loss = 1.1400e+06  val_loss = 1.1431e+06  u_vert_loss = 5.5240e+05  u_hori_loss = 4.9451e+05  rho_loss = 9.6219e+04  epoch time = 44.51s\n",
            "epoch =  103  train_loss = 1.1399e+06  val_loss = 1.1428e+06  u_vert_loss = 5.5208e+05  u_hori_loss = 4.9469e+05  rho_loss = 9.6078e+04  epoch time = 44.49s\n",
            "epoch =  104  train_loss = 1.1400e+06  val_loss = 1.1389e+06  u_vert_loss = 5.5188e+05  u_hori_loss = 4.9403e+05  rho_loss = 9.3013e+04  epoch time = 44.90s\n",
            "epoch =  105  train_loss = 1.1395e+06  val_loss = 1.1350e+06  u_vert_loss = 5.5167e+05  u_hori_loss = 4.9395e+05  rho_loss = 8.9412e+04  epoch time = 44.39s\n",
            "epoch =  106  train_loss = 1.1396e+06  val_loss = 1.1414e+06  u_vert_loss = 5.5144e+05  u_hori_loss = 4.9380e+05  rho_loss = 9.6148e+04  epoch time = 44.45s\n",
            "epoch =  107  train_loss = 1.1393e+06  val_loss = 1.1372e+06  u_vert_loss = 5.5200e+05  u_hori_loss = 4.9362e+05  rho_loss = 9.1528e+04  epoch time = 45.87s\n",
            "epoch =  108  train_loss = 1.1385e+06  val_loss = 1.1348e+06  u_vert_loss = 5.5138e+05  u_hori_loss = 4.9331e+05  rho_loss = 9.0071e+04  epoch time = 44.33s\n",
            "epoch =  109  train_loss = 1.1386e+06  val_loss = 1.1366e+06  u_vert_loss = 5.5124e+05  u_hori_loss = 4.9330e+05  rho_loss = 9.2092e+04  epoch time = 44.82s\n",
            "epoch =  110  train_loss = 1.1383e+06  val_loss = 1.1304e+06  u_vert_loss = 5.5164e+05  u_hori_loss = 4.9316e+05  rho_loss = 8.5642e+04  epoch time = 44.28s\n",
            "epoch =  111  train_loss = 1.1379e+06  val_loss = 1.1379e+06  u_vert_loss = 5.5173e+05  u_hori_loss = 4.9326e+05  rho_loss = 9.2935e+04  epoch time = 44.43s\n",
            "epoch =  112  train_loss = 1.1387e+06  val_loss = 1.1388e+06  u_vert_loss = 5.5215e+05  u_hori_loss = 4.9407e+05  rho_loss = 9.2566e+04  epoch time = 45.60s\n",
            "epoch =  113  train_loss = 1.1377e+06  val_loss = 1.1309e+06  u_vert_loss = 5.5093e+05  u_hori_loss = 4.9334e+05  rho_loss = 8.6656e+04  epoch time = 44.35s\n",
            "epoch =  114  train_loss = 1.1378e+06  val_loss = 1.1399e+06  u_vert_loss = 5.5271e+05  u_hori_loss = 4.9410e+05  rho_loss = 9.3049e+04  epoch time = 44.77s\n",
            "epoch =  115  train_loss = 1.1369e+06  val_loss = 1.1451e+06  u_vert_loss = 5.5200e+05  u_hori_loss = 4.9381e+05  rho_loss = 9.9295e+04  epoch time = 44.26s\n",
            "epoch =  116  train_loss = 1.1372e+06  val_loss = 1.1367e+06  u_vert_loss = 5.5255e+05  u_hori_loss = 4.9394e+05  rho_loss = 9.0171e+04  epoch time = 44.31s\n",
            "epoch =  117  train_loss = 1.1374e+06  val_loss = 1.1374e+06  u_vert_loss = 5.5191e+05  u_hori_loss = 4.9337e+05  rho_loss = 9.2067e+04  epoch time = 44.59s\n",
            "epoch =  118  train_loss = 1.1368e+06  val_loss = 1.1324e+06  u_vert_loss = 5.5138e+05  u_hori_loss = 4.9332e+05  rho_loss = 8.7658e+04  epoch time = 45.82s\n",
            "epoch =  119  train_loss = 1.1363e+06  val_loss = 1.1388e+06  u_vert_loss = 5.5172e+05  u_hori_loss = 4.9348e+05  rho_loss = 9.3646e+04  epoch time = 44.93s\n",
            "epoch =  120  train_loss = 1.1358e+06  val_loss = 1.1448e+06  u_vert_loss = 5.5120e+05  u_hori_loss = 4.9337e+05  rho_loss = 1.0027e+05  epoch time = 44.48s\n",
            "epoch =  121  train_loss = 1.1362e+06  val_loss = 1.1369e+06  u_vert_loss = 5.5183e+05  u_hori_loss = 4.9321e+05  rho_loss = 9.1835e+04  epoch time = 44.94s\n",
            "epoch =  122  train_loss = 1.1361e+06  val_loss = 1.1363e+06  u_vert_loss = 5.5179e+05  u_hori_loss = 4.9366e+05  rho_loss = 9.0899e+04  epoch time = 44.50s\n",
            "epoch =  123  train_loss = 1.1362e+06  val_loss = 1.1367e+06  u_vert_loss = 5.5230e+05  u_hori_loss = 4.9372e+05  rho_loss = 9.0638e+04  epoch time = 46.27s\n",
            "epoch =  124  train_loss = 1.1355e+06  val_loss = 1.1295e+06  u_vert_loss = 5.5105e+05  u_hori_loss = 4.9266e+05  rho_loss = 8.5815e+04  epoch time = 44.96s\n",
            "epoch =  125  train_loss = 1.1353e+06  val_loss = 1.1357e+06  u_vert_loss = 5.5144e+05  u_hori_loss = 4.9291e+05  rho_loss = 9.1318e+04  epoch time = 44.47s\n",
            "epoch =  126  train_loss = 1.1352e+06  val_loss = 1.1345e+06  u_vert_loss = 5.5144e+05  u_hori_loss = 4.9314e+05  rho_loss = 8.9943e+04  epoch time = 44.43s\n",
            "epoch =  127  train_loss = 1.1345e+06  val_loss = 1.1286e+06  u_vert_loss = 5.5089e+05  u_hori_loss = 4.9287e+05  rho_loss = 8.4842e+04  epoch time = 44.42s\n",
            "epoch =  128  train_loss = 1.1346e+06  val_loss = 1.1400e+06  u_vert_loss = 5.5232e+05  u_hori_loss = 4.9296e+05  rho_loss = 9.4672e+04  epoch time = 44.35s\n",
            "epoch =  129  train_loss = 1.1342e+06  val_loss = 1.1440e+06  u_vert_loss = 5.5175e+05  u_hori_loss = 4.9429e+05  rho_loss = 9.7950e+04  epoch time = 46.43s\n",
            "epoch =  130  train_loss = 1.1341e+06  val_loss = 1.1344e+06  u_vert_loss = 5.5143e+05  u_hori_loss = 4.9256e+05  rho_loss = 9.0460e+04  epoch time = 44.43s\n",
            "epoch =  131  train_loss = 1.1344e+06  val_loss = 1.1344e+06  u_vert_loss = 5.5143e+05  u_hori_loss = 4.9310e+05  rho_loss = 8.9859e+04  epoch time = 44.37s\n",
            "epoch =  132  train_loss = 1.1345e+06  val_loss = 1.1331e+06  u_vert_loss = 5.5112e+05  u_hori_loss = 4.9319e+05  rho_loss = 8.8780e+04  epoch time = 44.42s\n",
            "epoch =  133  train_loss = 1.1336e+06  val_loss = 1.1272e+06  u_vert_loss = 5.5095e+05  u_hori_loss = 4.9318e+05  rho_loss = 8.3057e+04  epoch time = 44.33s\n",
            "epoch =  134  train_loss = 1.1340e+06  val_loss = 1.1356e+06  u_vert_loss = 5.5214e+05  u_hori_loss = 4.9404e+05  rho_loss = 8.9436e+04  epoch time = 46.41s\n",
            "epoch =  135  train_loss = 1.1340e+06  val_loss = 1.1358e+06  u_vert_loss = 5.5122e+05  u_hori_loss = 4.9352e+05  rho_loss = 9.1052e+04  epoch time = 44.38s\n",
            "epoch =  136  train_loss = 1.1331e+06  val_loss = 1.1368e+06  u_vert_loss = 5.5189e+05  u_hori_loss = 4.9324e+05  rho_loss = 9.1642e+04  epoch time = 44.47s\n",
            "epoch =  137  train_loss = 1.1331e+06  val_loss = 1.1468e+06  u_vert_loss = 5.5165e+05  u_hori_loss = 4.9344e+05  rho_loss = 1.0172e+05  epoch time = 44.31s\n",
            "epoch =  138  train_loss = 1.1323e+06  val_loss = 1.1335e+06  u_vert_loss = 5.5155e+05  u_hori_loss = 4.9300e+05  rho_loss = 8.8930e+04  epoch time = 44.45s\n",
            "epoch =  139  train_loss = 1.1324e+06  val_loss = 1.1378e+06  u_vert_loss = 5.5049e+05  u_hori_loss = 4.9285e+05  rho_loss = 9.4474e+04  epoch time = 44.82s\n",
            "epoch =  140  train_loss = 1.1326e+06  val_loss = 1.1355e+06  u_vert_loss = 5.5111e+05  u_hori_loss = 4.9374e+05  rho_loss = 9.0666e+04  epoch time = 45.81s\n",
            "epoch =  141  train_loss = 1.1331e+06  val_loss = 1.1296e+06  u_vert_loss = 5.5101e+05  u_hori_loss = 4.9259e+05  rho_loss = 8.6023e+04  epoch time = 44.41s\n",
            "epoch =  142  train_loss = 1.1322e+06  val_loss = 1.1302e+06  u_vert_loss = 5.5074e+05  u_hori_loss = 4.9244e+05  rho_loss = 8.7042e+04  epoch time = 44.37s\n",
            "epoch =  143  train_loss = 1.1317e+06  val_loss = 1.1341e+06  u_vert_loss = 5.5193e+05  u_hori_loss = 4.9325e+05  rho_loss = 8.8889e+04  epoch time = 44.36s\n",
            "epoch =  144  train_loss = 1.1310e+06  val_loss = 1.1287e+06  u_vert_loss = 5.5072e+05  u_hori_loss = 4.9225e+05  rho_loss = 8.5748e+04  epoch time = 44.83s\n",
            "epoch =  145  train_loss = 1.1316e+06  val_loss = 1.1288e+06  u_vert_loss = 5.5096e+05  u_hori_loss = 4.9330e+05  rho_loss = 8.4524e+04  epoch time = 45.77s\n",
            "epoch =  146  train_loss = 1.1311e+06  val_loss = 1.1322e+06  u_vert_loss = 5.5117e+05  u_hori_loss = 4.9289e+05  rho_loss = 8.8153e+04  epoch time = 44.50s\n",
            "epoch =  147  train_loss = 1.1308e+06  val_loss = 1.1293e+06  u_vert_loss = 5.5073e+05  u_hori_loss = 4.9322e+05  rho_loss = 8.5371e+04  epoch time = 44.62s\n",
            "epoch =  148  train_loss = 1.1306e+06  val_loss = 1.1299e+06  u_vert_loss = 5.5073e+05  u_hori_loss = 4.9229e+05  rho_loss = 8.6884e+04  epoch time = 44.32s\n",
            "epoch =  149  train_loss = 1.1307e+06  val_loss = 1.1299e+06  u_vert_loss = 5.5052e+05  u_hori_loss = 4.9264e+05  rho_loss = 8.6751e+04  epoch time = 44.83s\n",
            "epoch =  150  train_loss = 1.1306e+06  val_loss = 1.1224e+06  u_vert_loss = 5.5056e+05  u_hori_loss = 4.9137e+05  rho_loss = 8.0475e+04  epoch time = 44.34s\n",
            "epoch =  151  train_loss = 1.1298e+06  val_loss = 1.1271e+06  u_vert_loss = 5.5061e+05  u_hori_loss = 4.9221e+05  rho_loss = 8.4303e+04  epoch time = 45.68s\n",
            "epoch =  152  train_loss = 1.1310e+06  val_loss = 1.1315e+06  u_vert_loss = 5.5031e+05  u_hori_loss = 4.9235e+05  rho_loss = 8.8845e+04  epoch time = 44.35s\n",
            "epoch =  153  train_loss = 1.1300e+06  val_loss = 1.1300e+06  u_vert_loss = 5.5085e+05  u_hori_loss = 4.9250e+05  rho_loss = 8.6598e+04  epoch time = 44.34s\n",
            "epoch =  154  train_loss = 1.1294e+06  val_loss = 1.1212e+06  u_vert_loss = 5.5065e+05  u_hori_loss = 4.9132e+05  rho_loss = 7.9201e+04  epoch time = 44.94s\n",
            "epoch =  155  train_loss = 1.1295e+06  val_loss = 1.1270e+06  u_vert_loss = 5.5035e+05  u_hori_loss = 4.9256e+05  rho_loss = 8.4078e+04  epoch time = 44.33s\n",
            "epoch =  156  train_loss = 1.1292e+06  val_loss = 1.1286e+06  u_vert_loss = 5.5016e+05  u_hori_loss = 4.9263e+05  rho_loss = 8.5812e+04  epoch time = 45.79s\n",
            "epoch =  157  train_loss = 1.1295e+06  val_loss = 1.1347e+06  u_vert_loss = 5.5118e+05  u_hori_loss = 4.9244e+05  rho_loss = 9.1090e+04  epoch time = 44.32s\n",
            "epoch =  158  train_loss = 1.1296e+06  val_loss = 1.1298e+06  u_vert_loss = 5.5039e+05  u_hori_loss = 4.9216e+05  rho_loss = 8.7285e+04  epoch time = 44.37s\n",
            "epoch =  159  train_loss = 1.1283e+06  val_loss = 1.1321e+06  u_vert_loss = 5.5125e+05  u_hori_loss = 4.9201e+05  rho_loss = 8.8810e+04  epoch time = 44.78s\n",
            "epoch =  160  train_loss = 1.1286e+06  val_loss = 1.1286e+06  u_vert_loss = 5.5014e+05  u_hori_loss = 4.9286e+05  rho_loss = 8.5556e+04  epoch time = 44.37s\n",
            "epoch =  161  train_loss = 1.1284e+06  val_loss = 1.1331e+06  u_vert_loss = 5.5017e+05  u_hori_loss = 4.9230e+05  rho_loss = 9.0649e+04  epoch time = 44.28s\n",
            "epoch =  162  train_loss = 1.1280e+06  val_loss = 1.1326e+06  u_vert_loss = 5.4931e+05  u_hori_loss = 4.9151e+05  rho_loss = 9.1800e+04  epoch time = 45.77s\n",
            "epoch =  163  train_loss = 1.1282e+06  val_loss = 1.1334e+06  u_vert_loss = 5.5044e+05  u_hori_loss = 4.9246e+05  rho_loss = 9.0526e+04  epoch time = 44.31s\n",
            "epoch =  164  train_loss = 1.1280e+06  val_loss = 1.1296e+06  u_vert_loss = 5.4937e+05  u_hori_loss = 4.9212e+05  rho_loss = 8.8149e+04  epoch time = 44.75s\n",
            "epoch =  165  train_loss = 1.1277e+06  val_loss = 1.1307e+06  u_vert_loss = 5.5061e+05  u_hori_loss = 4.9197e+05  rho_loss = 8.8131e+04  epoch time = 44.46s\n",
            "epoch =  166  train_loss = 1.1280e+06  val_loss = 1.1437e+06  u_vert_loss = 5.5066e+05  u_hori_loss = 4.9308e+05  rho_loss = 9.9984e+04  epoch time = 44.32s\n",
            "epoch =  167  train_loss = 1.1274e+06  val_loss = 1.1296e+06  u_vert_loss = 5.5057e+05  u_hori_loss = 4.9200e+05  rho_loss = 8.6992e+04  epoch time = 45.67s\n",
            "epoch =  168  train_loss = 1.1272e+06  val_loss = 1.1342e+06  u_vert_loss = 5.5002e+05  u_hori_loss = 4.9181e+05  rho_loss = 9.2327e+04  epoch time = 44.28s\n",
            "epoch =  169  train_loss = 1.1272e+06  val_loss = 1.1265e+06  u_vert_loss = 5.4909e+05  u_hori_loss = 4.9124e+05  rho_loss = 8.6123e+04  epoch time = 44.81s\n",
            "epoch =  170  train_loss = 1.1269e+06  val_loss = 1.1281e+06  u_vert_loss = 5.5047e+05  u_hori_loss = 4.9228e+05  rho_loss = 8.5334e+04  epoch time = 44.33s\n",
            "epoch =  171  train_loss = 1.1264e+06  val_loss = 1.1277e+06  u_vert_loss = 5.5025e+05  u_hori_loss = 4.9211e+05  rho_loss = 8.5371e+04  epoch time = 44.31s\n",
            "epoch =  172  train_loss = 1.1267e+06  val_loss = 1.1462e+06  u_vert_loss = 5.5115e+05  u_hori_loss = 4.9186e+05  rho_loss = 1.0316e+05  epoch time = 44.36s\n",
            "epoch =  173  train_loss = 1.1265e+06  val_loss = 1.1317e+06  u_vert_loss = 5.5029e+05  u_hori_loss = 4.9127e+05  rho_loss = 9.0149e+04  epoch time = 45.76s\n",
            "epoch =  174  train_loss = 1.1260e+06  val_loss = 1.1243e+06  u_vert_loss = 5.5068e+05  u_hori_loss = 4.9158e+05  rho_loss = 8.2045e+04  epoch time = 44.76s\n",
            "epoch =  175  train_loss = 1.1265e+06  val_loss = 1.1320e+06  u_vert_loss = 5.5051e+05  u_hori_loss = 4.9165e+05  rho_loss = 8.9803e+04  epoch time = 44.30s\n",
            "epoch =  176  train_loss = 1.1258e+06  val_loss = 1.1240e+06  u_vert_loss = 5.4982e+05  u_hori_loss = 4.9128e+05  rho_loss = 8.2916e+04  epoch time = 44.33s\n",
            "epoch =  177  train_loss = 1.1252e+06  val_loss = 1.1238e+06  u_vert_loss = 5.5047e+05  u_hori_loss = 4.9198e+05  rho_loss = 8.1371e+04  epoch time = 44.31s\n",
            "epoch =  178  train_loss = 1.1254e+06  val_loss = 1.1281e+06  u_vert_loss = 5.4996e+05  u_hori_loss = 4.9186e+05  rho_loss = 8.6269e+04  epoch time = 45.66s\n",
            "epoch =  179  train_loss = 1.1252e+06  val_loss = 1.1258e+06  u_vert_loss = 5.4936e+05  u_hori_loss = 4.9147e+05  rho_loss = 8.4965e+04  epoch time = 44.76s\n",
            "epoch =  180  train_loss = 1.1253e+06  val_loss = 1.1263e+06  u_vert_loss = 5.4980e+05  u_hori_loss = 4.9216e+05  rho_loss = 8.4315e+04  epoch time = 44.41s\n",
            "epoch =  181  train_loss = 1.1250e+06  val_loss = 1.1278e+06  u_vert_loss = 5.4989e+05  u_hori_loss = 4.9198e+05  rho_loss = 8.5963e+04  epoch time = 44.35s\n",
            "epoch =  182  train_loss = 1.1254e+06  val_loss = 1.1259e+06  u_vert_loss = 5.4930e+05  u_hori_loss = 4.9106e+05  rho_loss = 8.5512e+04  epoch time = 44.33s\n",
            "epoch =  183  train_loss = 1.1252e+06  val_loss = 1.1346e+06  u_vert_loss = 5.5034e+05  u_hori_loss = 4.9179e+05  rho_loss = 9.2439e+04  epoch time = 44.34s\n",
            "epoch =  184  train_loss = 1.1245e+06  val_loss = 1.1208e+06  u_vert_loss = 5.4967e+05  u_hori_loss = 4.9161e+05  rho_loss = 7.9506e+04  epoch time = 45.79s\n",
            "epoch =  185  train_loss = 1.1247e+06  val_loss = 1.1314e+06  u_vert_loss = 5.5001e+05  u_hori_loss = 4.9166e+05  rho_loss = 8.9714e+04  epoch time = 44.43s\n",
            "epoch =  186  train_loss = 1.1246e+06  val_loss = 1.1225e+06  u_vert_loss = 5.4962e+05  u_hori_loss = 4.9114e+05  rho_loss = 8.1698e+04  epoch time = 44.36s\n",
            "epoch =  187  train_loss = 1.1239e+06  val_loss = 1.1231e+06  u_vert_loss = 5.4927e+05  u_hori_loss = 4.9177e+05  rho_loss = 8.2089e+04  epoch time = 44.39s\n",
            "epoch =  188  train_loss = 1.1240e+06  val_loss = 1.1273e+06  u_vert_loss = 5.5059e+05  u_hori_loss = 4.9226e+05  rho_loss = 8.4409e+04  epoch time = 44.27s\n",
            "epoch =  189  train_loss = 1.1241e+06  val_loss = 1.1292e+06  u_vert_loss = 5.5057e+05  u_hori_loss = 4.9191e+05  rho_loss = 8.6769e+04  epoch time = 45.93s\n",
            "epoch =  190  train_loss = 1.1233e+06  val_loss = 1.1248e+06  u_vert_loss = 5.5019e+05  u_hori_loss = 4.9084e+05  rho_loss = 8.3783e+04  epoch time = 44.25s\n",
            "epoch =  191  train_loss = 1.1229e+06  val_loss = 1.1239e+06  u_vert_loss = 5.4924e+05  u_hori_loss = 4.9060e+05  rho_loss = 8.4050e+04  epoch time = 44.28s\n",
            "epoch =  192  train_loss = 1.1238e+06  val_loss = 1.1272e+06  u_vert_loss = 5.4918e+05  u_hori_loss = 4.9131e+05  rho_loss = 8.6719e+04  epoch time = 44.34s\n",
            "epoch =  193  train_loss = 1.1234e+06  val_loss = 1.1266e+06  u_vert_loss = 5.4927e+05  u_hori_loss = 4.9105e+05  rho_loss = 8.6275e+04  epoch time = 44.29s\n",
            "epoch =  194  train_loss = 1.1229e+06  val_loss = 1.1346e+06  u_vert_loss = 5.5017e+05  u_hori_loss = 4.9145e+05  rho_loss = 9.2936e+04  epoch time = 44.82s\n",
            "epoch =  195  train_loss = 1.1227e+06  val_loss = 1.1368e+06  u_vert_loss = 5.4942e+05  u_hori_loss = 4.9165e+05  rho_loss = 9.5676e+04  epoch time = 45.19s\n",
            "epoch =  196  train_loss = 1.1228e+06  val_loss = 1.1252e+06  u_vert_loss = 5.4948e+05  u_hori_loss = 4.9161e+05  rho_loss = 8.4124e+04  epoch time = 44.27s\n",
            "epoch =  197  train_loss = 1.1228e+06  val_loss = 1.1206e+06  u_vert_loss = 5.4940e+05  u_hori_loss = 4.9108e+05  rho_loss = 8.0156e+04  epoch time = 44.33s\n",
            "epoch =  198  train_loss = 1.1224e+06  val_loss = 1.1367e+06  u_vert_loss = 5.5039e+05  u_hori_loss = 4.9168e+05  rho_loss = 9.4608e+04  epoch time = 44.39s\n",
            "epoch =  199  train_loss = 1.1220e+06  val_loss = 1.1252e+06  u_vert_loss = 5.4968e+05  u_hori_loss = 4.9122e+05  rho_loss = 8.4270e+04  epoch time = 44.85s\n",
            "epoch =  200  train_loss = 1.1220e+06  val_loss = 1.1304e+06  u_vert_loss = 5.5077e+05  u_hori_loss = 4.9231e+05  rho_loss = 8.7345e+04  epoch time = 45.94s\n",
            "epoch =  201  train_loss = 1.1216e+06  val_loss = 1.1336e+06  u_vert_loss = 5.4971e+05  u_hori_loss = 4.9187e+05  rho_loss = 9.2065e+04  epoch time = 44.44s\n",
            "epoch =  202  train_loss = 1.1216e+06  val_loss = 1.1217e+06  u_vert_loss = 5.4953e+05  u_hori_loss = 4.9102e+05  rho_loss = 8.1174e+04  epoch time = 44.34s\n",
            "epoch =  203  train_loss = 1.1217e+06  val_loss = 1.1281e+06  u_vert_loss = 5.4922e+05  u_hori_loss = 4.9066e+05  rho_loss = 8.8196e+04  epoch time = 44.33s\n",
            "epoch =  204  train_loss = 1.1209e+06  val_loss = 1.1284e+06  u_vert_loss = 5.4853e+05  u_hori_loss = 4.9025e+05  rho_loss = 8.9593e+04  epoch time = 44.74s\n",
            "epoch =  205  train_loss = 1.1210e+06  val_loss = 1.1312e+06  u_vert_loss = 5.4884e+05  u_hori_loss = 4.9082e+05  rho_loss = 9.1526e+04  epoch time = 44.29s\n",
            "epoch =  206  train_loss = 1.1217e+06  val_loss = 1.1258e+06  u_vert_loss = 5.5103e+05  u_hori_loss = 4.9177e+05  rho_loss = 8.2963e+04  epoch time = 45.47s\n",
            "epoch =  207  train_loss = 1.1203e+06  val_loss = 1.1223e+06  u_vert_loss = 5.5026e+05  u_hori_loss = 4.9078e+05  rho_loss = 8.1286e+04  epoch time = 44.37s\n",
            "epoch =  208  train_loss = 1.1206e+06  val_loss = 1.1371e+06  u_vert_loss = 5.4918e+05  u_hori_loss = 4.9146e+05  rho_loss = 9.6496e+04  epoch time = 44.37s\n",
            "epoch =  209  train_loss = 1.1206e+06  val_loss = 1.1244e+06  u_vert_loss = 5.5032e+05  u_hori_loss = 4.9191e+05  rho_loss = 8.2220e+04  epoch time = 44.73s\n",
            "epoch =  210  train_loss = 1.1213e+06  val_loss = 1.1319e+06  u_vert_loss = 5.4975e+05  u_hori_loss = 4.9002e+05  rho_loss = 9.2121e+04  epoch time = 44.38s\n",
            "epoch =  211  train_loss = 1.1200e+06  val_loss = 1.1217e+06  u_vert_loss = 5.4908e+05  u_hori_loss = 4.9043e+05  rho_loss = 8.2168e+04  epoch time = 45.68s\n",
            "epoch =  212  train_loss = 1.1205e+06  val_loss = 1.1220e+06  u_vert_loss = 5.4949e+05  u_hori_loss = 4.9067e+05  rho_loss = 8.1850e+04  epoch time = 44.32s\n",
            "epoch =  213  train_loss = 1.1205e+06  val_loss = 1.1281e+06  u_vert_loss = 5.4911e+05  u_hori_loss = 4.9035e+05  rho_loss = 8.8634e+04  epoch time = 44.31s\n",
            "epoch =  214  train_loss = 1.1201e+06  val_loss = 1.1236e+06  u_vert_loss = 5.4930e+05  u_hori_loss = 4.9137e+05  rho_loss = 8.2935e+04  epoch time = 44.80s\n",
            "epoch =  215  train_loss = 1.1196e+06  val_loss = 1.1211e+06  u_vert_loss = 5.4944e+05  u_hori_loss = 4.9037e+05  rho_loss = 8.1247e+04  epoch time = 44.37s\n",
            "epoch =  216  train_loss = 1.1193e+06  val_loss = 1.1380e+06  u_vert_loss = 5.4969e+05  u_hori_loss = 4.9126e+05  rho_loss = 9.7056e+04  epoch time = 44.31s\n",
            "epoch =  217  train_loss = 1.1193e+06  val_loss = 1.1233e+06  u_vert_loss = 5.4928e+05  u_hori_loss = 4.9046e+05  rho_loss = 8.3576e+04  epoch time = 45.51s\n",
            "epoch =  218  train_loss = 1.1194e+06  val_loss = 1.1263e+06  u_vert_loss = 5.4925e+05  u_hori_loss = 4.9068e+05  rho_loss = 8.6370e+04  epoch time = 44.32s\n",
            "epoch =  219  train_loss = 1.1185e+06  val_loss = 1.1290e+06  u_vert_loss = 5.5039e+05  u_hori_loss = 4.9083e+05  rho_loss = 8.7740e+04  epoch time = 44.82s\n",
            "epoch =  220  train_loss = 1.1200e+06  val_loss = 1.1325e+06  u_vert_loss = 5.4956e+05  u_hori_loss = 4.9205e+05  rho_loss = 9.0867e+04  epoch time = 44.31s\n",
            "epoch =  221  train_loss = 1.1184e+06  val_loss = 1.1164e+06  u_vert_loss = 5.4896e+05  u_hori_loss = 4.9012e+05  rho_loss = 7.7311e+04  epoch time = 44.34s\n",
            "epoch =  222  train_loss = 1.1189e+06  val_loss = 1.1219e+06  u_vert_loss = 5.4878e+05  u_hori_loss = 4.9056e+05  rho_loss = 8.2604e+04  epoch time = 44.59s\n",
            "epoch =  223  train_loss = 1.1187e+06  val_loss = 1.1232e+06  u_vert_loss = 5.4924e+05  u_hori_loss = 4.9111e+05  rho_loss = 8.2829e+04  epoch time = 45.86s\n",
            "epoch =  224  train_loss = 1.1182e+06  val_loss = 1.1260e+06  u_vert_loss = 5.4941e+05  u_hori_loss = 4.9165e+05  rho_loss = 8.4960e+04  epoch time = 44.76s\n",
            "epoch =  225  train_loss = 1.1180e+06  val_loss = 1.1178e+06  u_vert_loss = 5.4833e+05  u_hori_loss = 4.9040e+05  rho_loss = 7.9053e+04  epoch time = 44.51s\n",
            "epoch =  226  train_loss = 1.1176e+06  val_loss = 1.1168e+06  u_vert_loss = 5.4945e+05  u_hori_loss = 4.9034e+05  rho_loss = 7.7020e+04  epoch time = 44.36s\n",
            "epoch =  227  train_loss = 1.1180e+06  val_loss = 1.1153e+06  u_vert_loss = 5.4910e+05  u_hori_loss = 4.9010e+05  rho_loss = 7.6088e+04  epoch time = 44.50s\n",
            "epoch =  228  train_loss = 1.1172e+06  val_loss = 1.1254e+06  u_vert_loss = 5.4897e+05  u_hori_loss = 4.9081e+05  rho_loss = 8.5589e+04  epoch time = 45.64s\n",
            "epoch =  229  train_loss = 1.1167e+06  val_loss = 1.1201e+06  u_vert_loss = 5.4830e+05  u_hori_loss = 4.8990e+05  rho_loss = 8.1921e+04  epoch time = 44.92s\n",
            "epoch =  230  train_loss = 1.1169e+06  val_loss = 1.1249e+06  u_vert_loss = 5.4977e+05  u_hori_loss = 4.9117e+05  rho_loss = 8.3969e+04  epoch time = 44.39s\n",
            "epoch =  231  train_loss = 1.1165e+06  val_loss = 1.1208e+06  u_vert_loss = 5.4945e+05  u_hori_loss = 4.9015e+05  rho_loss = 8.1155e+04  epoch time = 44.46s\n",
            "epoch =  232  train_loss = 1.1166e+06  val_loss = 1.1268e+06  u_vert_loss = 5.4872e+05  u_hori_loss = 4.9071e+05  rho_loss = 8.7353e+04  epoch time = 44.58s\n",
            "epoch =  233  train_loss = 1.1172e+06  val_loss = 1.1309e+06  u_vert_loss = 5.4994e+05  u_hori_loss = 4.9160e+05  rho_loss = 8.9344e+04  epoch time = 44.20s\n",
            "epoch =  234  train_loss = 1.1169e+06  val_loss = 1.1306e+06  u_vert_loss = 5.4997e+05  u_hori_loss = 4.9069e+05  rho_loss = 8.9970e+04  epoch time = 45.82s\n",
            "epoch =  235  train_loss = 1.1160e+06  val_loss = 1.1188e+06  u_vert_loss = 5.4914e+05  u_hori_loss = 4.9075e+05  rho_loss = 7.8895e+04  epoch time = 44.25s\n",
            "epoch =  236  train_loss = 1.1158e+06  val_loss = 1.1173e+06  u_vert_loss = 5.4923e+05  u_hori_loss = 4.8992e+05  rho_loss = 7.8175e+04  epoch time = 44.30s\n",
            "epoch =  237  train_loss = 1.1163e+06  val_loss = 1.1212e+06  u_vert_loss = 5.4923e+05  u_hori_loss = 4.9070e+05  rho_loss = 8.1224e+04  epoch time = 44.31s\n",
            "epoch =  238  train_loss = 1.1167e+06  val_loss = 1.1238e+06  u_vert_loss = 5.4803e+05  u_hori_loss = 4.9077e+05  rho_loss = 8.4990e+04  epoch time = 44.28s\n",
            "epoch =  239  train_loss = 1.1162e+06  val_loss = 1.1194e+06  u_vert_loss = 5.4879e+05  u_hori_loss = 4.9042e+05  rho_loss = 8.0194e+04  epoch time = 45.94s\n",
            "epoch =  240  train_loss = 1.1165e+06  val_loss = 1.1123e+06  u_vert_loss = 5.4807e+05  u_hori_loss = 4.8926e+05  rho_loss = 7.4942e+04  epoch time = 44.29s\n",
            "epoch =  241  train_loss = 1.1150e+06  val_loss = 1.1169e+06  u_vert_loss = 5.4878e+05  u_hori_loss = 4.8988e+05  rho_loss = 7.8251e+04  epoch time = 44.32s\n",
            "epoch =  242  train_loss = 1.1152e+06  val_loss = 1.1250e+06  u_vert_loss = 5.4822e+05  u_hori_loss = 4.9120e+05  rho_loss = 8.5601e+04  epoch time = 44.25s\n",
            "epoch =  243  train_loss = 1.1161e+06  val_loss = 1.1179e+06  u_vert_loss = 5.4870e+05  u_hori_loss = 4.8972e+05  rho_loss = 7.9460e+04  epoch time = 44.36s\n",
            "epoch =  244  train_loss = 1.1149e+06  val_loss = 1.1157e+06  u_vert_loss = 5.4837e+05  u_hori_loss = 4.9032e+05  rho_loss = 7.7032e+04  epoch time = 44.81s\n",
            "epoch =  245  train_loss = 1.1150e+06  val_loss = 1.1184e+06  u_vert_loss = 5.4877e+05  u_hori_loss = 4.9065e+05  rho_loss = 7.9013e+04  epoch time = 45.61s\n",
            "epoch =  246  train_loss = 1.1152e+06  val_loss = 1.1195e+06  u_vert_loss = 5.4838e+05  u_hori_loss = 4.8973e+05  rho_loss = 8.1438e+04  epoch time = 44.34s\n",
            "epoch =  247  train_loss = 1.1150e+06  val_loss = 1.1247e+06  u_vert_loss = 5.4932e+05  u_hori_loss = 4.9074e+05  rho_loss = 8.4614e+04  epoch time = 44.34s\n",
            "epoch =  248  train_loss = 1.1144e+06  val_loss = 1.1158e+06  u_vert_loss = 5.4924e+05  u_hori_loss = 4.9052e+05  rho_loss = 7.6023e+04  epoch time = 44.36s\n",
            "epoch =  249  train_loss = 1.1143e+06  val_loss = 1.1196e+06  u_vert_loss = 5.4970e+05  u_hori_loss = 4.9080e+05  rho_loss = 7.9105e+04  epoch time = 44.72s\n",
            "epoch =  250  train_loss = 1.1141e+06  val_loss = 1.1197e+06  u_vert_loss = 5.4855e+05  u_hori_loss = 4.8995e+05  rho_loss = 8.1178e+04  epoch time = 44.33s\n",
            "epoch =  251  train_loss = 1.1133e+06  val_loss = 1.1159e+06  u_vert_loss = 5.4802e+05  u_hori_loss = 4.9047e+05  rho_loss = 7.7400e+04  epoch time = 45.82s\n",
            "epoch =  252  train_loss = 1.1130e+06  val_loss = 1.1175e+06  u_vert_loss = 5.4876e+05  u_hori_loss = 4.9041e+05  rho_loss = 7.8351e+04  epoch time = 44.76s\n",
            "epoch =  253  train_loss = 1.1129e+06  val_loss = 1.1247e+06  u_vert_loss = 5.4915e+05  u_hori_loss = 4.9072e+05  rho_loss = 8.4796e+04  epoch time = 44.26s\n",
            "epoch =  254  train_loss = 1.1142e+06  val_loss = 1.1128e+06  u_vert_loss = 5.4796e+05  u_hori_loss = 4.8987e+05  rho_loss = 7.4959e+04  epoch time = 44.74s\n",
            "epoch =  255  train_loss = 1.1131e+06  val_loss = 1.1170e+06  u_vert_loss = 5.4856e+05  u_hori_loss = 4.8992e+05  rho_loss = 7.8509e+04  epoch time = 44.25s\n",
            "epoch =  256  train_loss = 1.1126e+06  val_loss = 1.1185e+06  u_vert_loss = 5.4852e+05  u_hori_loss = 4.9050e+05  rho_loss = 7.9488e+04  epoch time = 45.62s\n",
            "epoch =  257  train_loss = 1.1146e+06  val_loss = 1.1143e+06  u_vert_loss = 5.4872e+05  u_hori_loss = 4.8988e+05  rho_loss = 7.5692e+04  epoch time = 44.32s\n",
            "epoch =  258  train_loss = 1.1130e+06  val_loss = 1.1345e+06  u_vert_loss = 5.4879e+05  u_hori_loss = 4.8904e+05  rho_loss = 9.6698e+04  epoch time = 44.32s\n",
            "epoch =  259  train_loss = 1.1130e+06  val_loss = 1.1261e+06  u_vert_loss = 5.4918e+05  u_hori_loss = 4.9125e+05  rho_loss = 8.5696e+04  epoch time = 44.78s\n",
            "epoch =  260  train_loss = 1.1126e+06  val_loss = 1.1265e+06  u_vert_loss = 5.4848e+05  u_hori_loss = 4.8976e+05  rho_loss = 8.8221e+04  epoch time = 44.35s\n",
            "epoch =  261  train_loss = 1.1124e+06  val_loss = 1.1191e+06  u_vert_loss = 5.4856e+05  u_hori_loss = 4.8985e+05  rho_loss = 8.0682e+04  epoch time = 44.29s\n",
            "epoch =  262  train_loss = 1.1123e+06  val_loss = 1.1160e+06  u_vert_loss = 5.4795e+05  u_hori_loss = 4.8940e+05  rho_loss = 7.8626e+04  epoch time = 45.57s\n",
            "epoch =  263  train_loss = 1.1120e+06  val_loss = 1.1228e+06  u_vert_loss = 5.4868e+05  u_hori_loss = 4.9079e+05  rho_loss = 8.3334e+04  epoch time = 44.19s\n",
            "epoch =  264  train_loss = 1.1119e+06  val_loss = 1.1292e+06  u_vert_loss = 5.4950e+05  u_hori_loss = 4.9082e+05  rho_loss = 8.8882e+04  epoch time = 44.73s\n",
            "epoch =  265  train_loss = 1.1121e+06  val_loss = 1.1082e+06  u_vert_loss = 5.4766e+05  u_hori_loss = 4.8897e+05  rho_loss = 7.1545e+04  epoch time = 44.27s\n",
            "epoch =  266  train_loss = 1.1109e+06  val_loss = 1.1359e+06  u_vert_loss = 5.4891e+05  u_hori_loss = 4.9030e+05  rho_loss = 9.6660e+04  epoch time = 44.25s\n",
            "epoch =  267  train_loss = 1.1108e+06  val_loss = 1.1181e+06  u_vert_loss = 5.4803e+05  u_hori_loss = 4.8927e+05  rho_loss = 8.0819e+04  epoch time = 44.54s\n",
            "epoch =  268  train_loss = 1.1120e+06  val_loss = 1.1090e+06  u_vert_loss = 5.4711e+05  u_hori_loss = 4.8957e+05  rho_loss = 7.2301e+04  epoch time = 45.68s\n",
            "epoch =  269  train_loss = 1.1104e+06  val_loss = 1.1105e+06  u_vert_loss = 5.4710e+05  u_hori_loss = 4.8898e+05  rho_loss = 7.4388e+04  epoch time = 44.71s\n",
            "epoch =  270  train_loss = 1.1115e+06  val_loss = 1.1170e+06  u_vert_loss = 5.4748e+05  u_hori_loss = 4.8861e+05  rho_loss = 8.0951e+04  epoch time = 44.32s\n",
            "epoch =  271  train_loss = 1.1111e+06  val_loss = 1.1111e+06  u_vert_loss = 5.4806e+05  u_hori_loss = 4.8932e+05  rho_loss = 7.3746e+04  epoch time = 44.29s\n",
            "epoch =  272  train_loss = 1.1100e+06  val_loss = 1.1158e+06  u_vert_loss = 5.4791e+05  u_hori_loss = 4.8942e+05  rho_loss = 7.8425e+04  epoch time = 44.26s\n",
            "epoch =  273  train_loss = 1.1101e+06  val_loss = 1.1128e+06  u_vert_loss = 5.4815e+05  u_hori_loss = 4.8890e+05  rho_loss = 7.5787e+04  epoch time = 45.69s\n",
            "epoch =  274  train_loss = 1.1103e+06  val_loss = 1.1241e+06  u_vert_loss = 5.4864e+05  u_hori_loss = 4.9026e+05  rho_loss = 8.5215e+04  epoch time = 44.81s\n",
            "epoch =  275  train_loss = 1.1102e+06  val_loss = 1.1228e+06  u_vert_loss = 5.4781e+05  u_hori_loss = 4.9000e+05  rho_loss = 8.5036e+04  epoch time = 44.31s\n",
            "epoch =  276  train_loss = 1.1099e+06  val_loss = 1.1141e+06  u_vert_loss = 5.4724e+05  u_hori_loss = 4.8979e+05  rho_loss = 7.7056e+04  epoch time = 44.26s\n",
            "epoch =  277  train_loss = 1.1101e+06  val_loss = 1.1211e+06  u_vert_loss = 5.4864e+05  u_hori_loss = 4.8950e+05  rho_loss = 8.2988e+04  epoch time = 44.26s\n",
            "epoch =  278  train_loss = 1.1096e+06  val_loss = 1.1173e+06  u_vert_loss = 5.4868e+05  u_hori_loss = 4.9013e+05  rho_loss = 7.8504e+04  epoch time = 44.22s\n",
            "epoch =  279  train_loss = 1.1088e+06  val_loss = 1.1172e+06  u_vert_loss = 5.4820e+05  u_hori_loss = 4.8995e+05  rho_loss = 7.9074e+04  epoch time = 46.23s\n",
            "epoch =  280  train_loss = 1.1097e+06  val_loss = 1.1119e+06  u_vert_loss = 5.4823e+05  u_hori_loss = 4.8929e+05  rho_loss = 7.4418e+04  epoch time = 44.26s\n",
            "epoch =  281  train_loss = 1.1353e+06  val_loss = 1.1146e+06  u_vert_loss = 5.4815e+05  u_hori_loss = 4.8904e+05  rho_loss = 7.7379e+04  epoch time = 44.26s\n",
            "epoch =  282  train_loss = 1.1177e+06  val_loss = 1.1206e+06  u_vert_loss = 5.4779e+05  u_hori_loss = 4.8971e+05  rho_loss = 8.3095e+04  epoch time = 44.23s\n",
            "epoch =  283  train_loss = 1.1090e+06  val_loss = 1.1142e+06  u_vert_loss = 5.4817e+05  u_hori_loss = 4.8906e+05  rho_loss = 7.7003e+04  epoch time = 44.27s\n",
            "epoch =  284  train_loss = 1.1090e+06  val_loss = 1.1148e+06  u_vert_loss = 5.4794e+05  u_hori_loss = 4.8938e+05  rho_loss = 7.7464e+04  epoch time = 44.73s\n",
            "epoch =  285  train_loss = 1.1098e+06  val_loss = 1.1185e+06  u_vert_loss = 5.4806e+05  u_hori_loss = 4.9025e+05  rho_loss = 8.0173e+04  epoch time = 45.51s\n",
            "epoch =  286  train_loss = 1.1090e+06  val_loss = 1.1146e+06  u_vert_loss = 5.4797e+05  u_hori_loss = 4.8990e+05  rho_loss = 7.6690e+04  epoch time = 44.26s\n",
            "epoch =  287  train_loss = 1.1084e+06  val_loss = 1.1097e+06  u_vert_loss = 5.4767e+05  u_hori_loss = 4.8977e+05  rho_loss = 7.2231e+04  epoch time = 44.29s\n",
            "epoch =  288  train_loss = 1.1075e+06  val_loss = 1.1180e+06  u_vert_loss = 5.4889e+05  u_hori_loss = 4.8922e+05  rho_loss = 7.9866e+04  epoch time = 44.19s\n",
            "epoch =  289  train_loss = 1.1079e+06  val_loss = 1.1132e+06  u_vert_loss = 5.4871e+05  u_hori_loss = 4.8973e+05  rho_loss = 7.4761e+04  epoch time = 44.66s\n",
            "epoch =  290  train_loss = 1.1404e+06  val_loss = 1.1203e+06  u_vert_loss = 5.4820e+05  u_hori_loss = 4.9021e+05  rho_loss = 8.1846e+04  epoch time = 44.46s\n",
            "epoch =  291  train_loss = 1.1081e+06  val_loss = 1.1165e+06  u_vert_loss = 5.4893e+05  u_hori_loss = 4.8916e+05  rho_loss = 7.8455e+04  epoch time = 46.02s\n",
            "epoch =  292  train_loss = 1.1076e+06  val_loss = 1.1169e+06  u_vert_loss = 5.4787e+05  u_hori_loss = 4.8875e+05  rho_loss = 8.0246e+04  epoch time = 44.32s\n",
            "epoch =  293  train_loss = 1.1072e+06  val_loss = 1.1131e+06  u_vert_loss = 5.4825e+05  u_hori_loss = 4.8977e+05  rho_loss = 7.5045e+04  epoch time = 44.24s\n",
            "epoch =  294  train_loss = 1.1077e+06  val_loss = 1.1257e+06  u_vert_loss = 5.4868e+05  u_hori_loss = 4.9038e+05  rho_loss = 8.6614e+04  epoch time = 44.97s\n",
            "epoch =  295  train_loss = 1.1077e+06  val_loss = 1.1266e+06  u_vert_loss = 5.4819e+05  u_hori_loss = 4.8963e+05  rho_loss = 8.8822e+04  epoch time = 44.22s\n",
            "epoch =  296  train_loss = 1.1072e+06  val_loss = 1.1190e+06  u_vert_loss = 5.4763e+05  u_hori_loss = 4.8967e+05  rho_loss = 8.1728e+04  epoch time = 44.98s\n",
            "epoch =  297  train_loss = 1.1067e+06  val_loss = 1.1161e+06  u_vert_loss = 5.4794e+05  u_hori_loss = 4.8947e+05  rho_loss = 7.8739e+04  epoch time = 44.26s\n",
            "epoch =  298  train_loss = 1.2723e+08  val_loss = 1.1257e+06  u_vert_loss = 5.5017e+05  u_hori_loss = 4.9083e+05  rho_loss = 8.4684e+04  epoch time = 44.27s\n",
            "epoch =  299  train_loss = 1.1084e+06  val_loss = 1.1302e+06  u_vert_loss = 5.4846e+05  u_hori_loss = 4.8985e+05  rho_loss = 9.1868e+04  epoch time = 44.75s\n",
            "epoch =  300  train_loss = 1.1092e+06  val_loss = 1.1131e+06  u_vert_loss = 5.4838e+05  u_hori_loss = 4.8955e+05  rho_loss = 7.5198e+04  epoch time = 44.98s\n",
            "epoch =  301  train_loss = 1.1283e+06  val_loss = 1.1228e+06  u_vert_loss = 5.4787e+05  u_hori_loss = 4.8947e+05  rho_loss = 8.5440e+04  epoch time = 44.23s\n",
            "epoch =  302  train_loss = 1.1127e+06  val_loss = 1.1128e+06  u_vert_loss = 5.4844e+05  u_hori_loss = 4.8954e+05  rho_loss = 7.4800e+04  epoch time = 44.20s\n",
            "epoch =  303  train_loss = 1.1134e+06  val_loss = 1.1473e+06  u_vert_loss = 5.5459e+05  u_hori_loss = 4.9603e+05  rho_loss = 9.6672e+04  epoch time = 44.31s\n",
            "epoch =  304  train_loss = 1.1343e+06  val_loss = 1.1141e+06  u_vert_loss = 5.4786e+05  u_hori_loss = 4.8971e+05  rho_loss = 7.6505e+04  epoch time = 45.30s\n",
            "epoch =  305  train_loss = 1.1131e+06  val_loss = 1.1206e+06  u_vert_loss = 5.4732e+05  u_hori_loss = 4.8913e+05  rho_loss = 8.4196e+04  epoch time = 44.30s\n",
            "epoch =  306  train_loss = 1.1214e+06  val_loss = 1.1160e+06  u_vert_loss = 5.4995e+05  u_hori_loss = 4.9082e+05  rho_loss = 7.5270e+04  epoch time = 44.25s\n",
            "epoch =  307  train_loss = 1.1972e+06  val_loss = 1.1191e+06  u_vert_loss = 5.4847e+05  u_hori_loss = 4.8936e+05  rho_loss = 8.1301e+04  epoch time = 44.27s\n",
            "epoch =  308  train_loss = 1.1071e+06  val_loss = 1.1232e+06  u_vert_loss = 5.4896e+05  u_hori_loss = 4.8991e+05  rho_loss = 8.4295e+04  epoch time = 44.28s\n",
            "epoch =  309  train_loss = 1.1069e+06  val_loss = 1.1110e+06  u_vert_loss = 5.4906e+05  u_hori_loss = 4.8922e+05  rho_loss = 7.2716e+04  epoch time = 45.87s\n",
            "epoch =  310  train_loss = 1.1070e+06  val_loss = 1.1210e+06  u_vert_loss = 5.4913e+05  u_hori_loss = 4.8999e+05  rho_loss = 8.1930e+04  epoch time = 44.24s\n",
            "epoch =  311  train_loss = 1.1073e+06  val_loss = 1.1115e+06  u_vert_loss = 5.4841e+05  u_hori_loss = 4.8907e+05  rho_loss = 7.4045e+04  epoch time = 44.18s\n",
            "epoch =  312  train_loss = 1.1060e+06  val_loss = 1.1114e+06  u_vert_loss = 5.4844e+05  u_hori_loss = 4.8845e+05  rho_loss = 7.4537e+04  epoch time = 44.31s\n",
            "epoch =  313  train_loss = 1.1063e+06  val_loss = 1.1143e+06  u_vert_loss = 5.4741e+05  u_hori_loss = 4.8920e+05  rho_loss = 7.7704e+04  epoch time = 44.21s\n",
            "epoch =  314  train_loss = 1.1052e+06  val_loss = 1.1143e+06  u_vert_loss = 5.4723e+05  u_hori_loss = 4.8925e+05  rho_loss = 7.7863e+04  epoch time = 44.71s\n",
            "epoch =  315  train_loss = 1.1054e+06  val_loss = 1.1180e+06  u_vert_loss = 5.4781e+05  u_hori_loss = 4.8951e+05  rho_loss = 8.0672e+04  epoch time = 45.51s\n",
            "epoch =  316  train_loss = 1.1056e+06  val_loss = 1.1160e+06  u_vert_loss = 5.4806e+05  u_hori_loss = 4.8907e+05  rho_loss = 7.8842e+04  epoch time = 44.21s\n",
            "epoch =  317  train_loss = 1.1048e+06  val_loss = 1.1132e+06  u_vert_loss = 5.4704e+05  u_hori_loss = 4.8918e+05  rho_loss = 7.6959e+04  epoch time = 44.30s\n",
            "epoch =  318  train_loss = 1.1035e+06  val_loss = 1.1200e+06  u_vert_loss = 5.4781e+05  u_hori_loss = 4.8971e+05  rho_loss = 8.2530e+04  epoch time = 44.18s\n",
            "epoch =  319  train_loss = 1.1107e+06  val_loss = 1.1124e+06  u_vert_loss = 5.4797e+05  u_hori_loss = 4.8967e+05  rho_loss = 7.4786e+04  epoch time = 44.78s\n",
            "epoch =  320  train_loss = 1.1036e+06  val_loss = 1.1189e+06  u_vert_loss = 5.4776e+05  u_hori_loss = 4.8936e+05  rho_loss = 8.1809e+04  epoch time = 44.50s\n",
            "epoch =  321  train_loss = 1.1027e+06  val_loss = 1.1110e+06  u_vert_loss = 5.4753e+05  u_hori_loss = 4.8947e+05  rho_loss = 7.4033e+04  epoch time = 45.44s\n",
            "epoch =  322  train_loss = 1.1046e+06  val_loss = 1.1215e+06  u_vert_loss = 5.4782e+05  u_hori_loss = 4.8877e+05  rho_loss = 8.4910e+04  epoch time = 44.22s\n",
            "epoch =  323  train_loss = 1.1017e+06  val_loss = 1.1100e+06  u_vert_loss = 5.4767e+05  u_hori_loss = 4.8861e+05  rho_loss = 7.3746e+04  epoch time = 44.30s\n",
            "epoch =  324  train_loss = 1.1029e+06  val_loss = 1.1117e+06  u_vert_loss = 5.4810e+05  u_hori_loss = 4.8914e+05  rho_loss = 7.4486e+04  epoch time = 44.69s\n",
            "epoch =  325  train_loss = 1.1024e+06  val_loss = 1.1130e+06  u_vert_loss = 5.4782e+05  u_hori_loss = 4.8916e+05  rho_loss = 7.6003e+04  epoch time = 44.29s\n",
            "epoch =  326  train_loss = 1.1015e+06  val_loss = 1.1147e+06  u_vert_loss = 5.4874e+05  u_hori_loss = 4.8919e+05  rho_loss = 7.6786e+04  epoch time = 45.66s\n",
            "epoch =  327  train_loss = 1.1012e+06  val_loss = 1.1180e+06  u_vert_loss = 5.4797e+05  u_hori_loss = 4.8942e+05  rho_loss = 8.0630e+04  epoch time = 44.25s\n",
            "epoch =  328  train_loss = 1.1012e+06  val_loss = 1.1090e+06  u_vert_loss = 5.4768e+05  u_hori_loss = 4.8872e+05  rho_loss = 7.2579e+04  epoch time = 44.20s\n",
            "epoch =  329  train_loss = 1.1017e+06  val_loss = 1.1218e+06  u_vert_loss = 5.4952e+05  u_hori_loss = 4.8843e+05  rho_loss = 8.3808e+04  epoch time = 44.72s\n",
            "epoch =  330  train_loss = 1.1010e+06  val_loss = 1.1188e+06  u_vert_loss = 5.4908e+05  u_hori_loss = 4.8963e+05  rho_loss = 8.0081e+04  epoch time = 44.26s\n",
            "epoch =  331  train_loss = 1.2773e+06  val_loss = 1.4040e+06  u_vert_loss = 5.4801e+05  u_hori_loss = 7.8059e+05  rho_loss = 7.5406e+04  epoch time = 44.20s\n",
            "epoch =  332  train_loss = 1.1114e+06  val_loss = 1.1378e+06  u_vert_loss = 5.5091e+05  u_hori_loss = 5.0241e+05  rho_loss = 8.4449e+04  epoch time = 45.02s\n",
            "epoch =  333  train_loss = 1.1297e+06  val_loss = 1.2055e+06  u_vert_loss = 5.5037e+05  u_hori_loss = 4.9344e+05  rho_loss = 1.6168e+05  epoch time = 44.30s\n",
            "epoch =  334  train_loss = 1.1240e+06  val_loss = 1.1206e+06  u_vert_loss = 5.5102e+05  u_hori_loss = 4.9215e+05  rho_loss = 7.7440e+04  epoch time = 44.70s\n",
            "epoch =  335  train_loss = 5.2144e+07  val_loss = 1.6466e+08  u_vert_loss = 2.1098e+07  u_hori_loss = 2.6456e+06  rho_loss = 1.4091e+08  epoch time = 44.15s\n",
            "epoch =  336  train_loss = 3.2905e+07  val_loss = 3.1039e+08  u_vert_loss = 1.8196e+07  u_hori_loss = 2.1648e+08  rho_loss = 7.5711e+07  epoch time = 45.03s\n",
            "epoch =  337  train_loss = 2.1370e+07  val_loss = 7.4231e+06  u_vert_loss = 5.8649e+06  u_hori_loss = 1.4563e+06  rho_loss = 1.0188e+05  epoch time = 44.20s\n",
            "epoch =  338  train_loss = 1.4660e+06  val_loss = 3.6808e+06  u_vert_loss = 2.6884e+06  u_hori_loss = 8.9269e+05  rho_loss = 9.9740e+04  epoch time = 44.28s\n",
            "epoch =  339  train_loss = 3.4768e+07  val_loss = 1.1373e+06  u_vert_loss = 5.4999e+05  u_hori_loss = 4.9378e+05  rho_loss = 9.3481e+04  epoch time = 44.70s\n",
            "epoch =  340  train_loss = 1.1252e+06  val_loss = 1.1403e+06  u_vert_loss = 5.4950e+05  u_hori_loss = 4.9548e+05  rho_loss = 9.5323e+04  epoch time = 44.97s\n",
            "epoch =  341  train_loss = 1.1244e+06  val_loss = 1.1504e+06  u_vert_loss = 5.4980e+05  u_hori_loss = 4.9381e+05  rho_loss = 1.0677e+05  epoch time = 44.23s\n",
            "epoch =  342  train_loss = 1.1214e+06  val_loss = 1.1351e+06  u_vert_loss = 5.5151e+05  u_hori_loss = 4.9732e+05  rho_loss = 8.6247e+04  epoch time = 44.21s\n",
            "epoch =  343  train_loss = 1.1212e+06  val_loss = 1.1287e+06  u_vert_loss = 5.4866e+05  u_hori_loss = 4.9369e+05  rho_loss = 8.6331e+04  epoch time = 44.24s\n",
            "epoch =  344  train_loss = 1.1185e+06  val_loss = 1.1269e+06  u_vert_loss = 5.4893e+05  u_hori_loss = 4.9385e+05  rho_loss = 8.4116e+04  epoch time = 44.67s\n",
            "epoch =  345  train_loss = 1.1176e+06  val_loss = 1.1252e+06  u_vert_loss = 5.4998e+05  u_hori_loss = 4.9427e+05  rho_loss = 8.0975e+04  epoch time = 44.91s\n",
            "epoch =  346  train_loss = 1.1177e+06  val_loss = 1.1255e+06  u_vert_loss = 5.4944e+05  u_hori_loss = 4.9321e+05  rho_loss = 8.2819e+04  epoch time = 44.21s\n",
            "epoch =  347  train_loss = 1.1165e+06  val_loss = 1.1384e+06  u_vert_loss = 5.5385e+05  u_hori_loss = 4.9470e+05  rho_loss = 8.9804e+04  epoch time = 44.32s\n",
            "epoch =  348  train_loss = 1.1161e+06  val_loss = 1.9214e+06  u_vert_loss = 5.5740e+05  u_hori_loss = 1.2770e+06  rho_loss = 8.7073e+04  epoch time = 44.25s\n",
            "epoch =  349  train_loss = 2.1955e+06  val_loss = 1.1497e+06  u_vert_loss = 5.5004e+05  u_hori_loss = 4.9618e+05  rho_loss = 1.0348e+05  epoch time = 45.33s\n",
            "Done\n"
          ]
        }
      ],
      "source": [
        "# todo: enable the model to receive batch data\n",
        "exec_datetime = dt.datetime.now()\n",
        "log_dir = f'/content/drive/MyDrive/lab_data/logs/{exec_datetime.strftime(\"%Y%m%d_%H%M%S\")}'\n",
        "writer = SummaryWriter(log_dir=log_dir)\n",
        "\n",
        "def main(dataset, train_loader, valid_loader, writer: SummaryWriter):\n",
        "    print('Calc losses between 0h and 3h...')\n",
        "    losses_0h3h = calc_losses_between_0h3h(train_loader, valid_loader)\n",
        "    print(f'train u_vert mae: {losses_0h3h.get_losses_train()[\"u_vert_mae\"]} m/s')\n",
        "    print(f'train u_hori mae: {losses_0h3h.get_losses_train()[\"u_hori_mae\"]} m/s')\n",
        "    print(f'train rho mae: {losses_0h3h.get_losses_train()[\"rho_mae\"]} hPa')\n",
        "    print(f'val u_vert mae: {losses_0h3h.get_losses_val()[\"u_vert_mae\"]} m/s')\n",
        "    print(f'val u_hori mae: {losses_0h3h.get_losses_val()[\"u_hori_mae\"]} m/s')\n",
        "    print(f'val rho mae: {losses_0h3h.get_losses_val()[\"rho_mae\"]} hPa')\n",
        "    print('Creating the model...')\n",
        "    lbm = LBMwithNoisyInit(HEIGHT, WIDTH).to(device)\n",
        "    weight_diff_logger = WeightDiffLogger()\n",
        "\n",
        "    num_epochs = 350\n",
        "    total_time = 0.0\n",
        "    \n",
        "\n",
        "    optimizer = torch.optim.Adam(lbm.parameters())\n",
        "    # optimizer = torch.optim.Adadelta(lbm.parameters())\n",
        "    # optimizer = torch.optim.AdamW(lbm.parameters())\n",
        "    # optimizer = torch.optim.SGD(lbm.parameters(), lr=0.001, momentum=0.9, nesterov=True)\n",
        "\n",
        "    \n",
        "    print(\"optimizer = \" + str(optimizer))\n",
        "    print(\"max_epochs = %3d \" % num_epochs)\n",
        "    print(\"summary writer's logdir = \" + writer.log_dir )\n",
        "    \n",
        "    print('Training the model...')\n",
        "    \n",
        "    for epoch in range(num_epochs):\n",
        "        lbm.train()\n",
        "        epoch_loss = Loss()\n",
        "        epoch_started_time = time.time()\n",
        "        weight_diff_logger.memorize(lbm)\n",
        "        for (batch_idx, batch) in enumerate(train_loader):\n",
        "            optimizer.zero_grad()\n",
        "            out = lbm(batch['u_vert'].squeeze(), batch['u_hori'].squeeze(), batch['rho'].squeeze())\n",
        "            loss_vals = loss_func(out, batch)\n",
        "            epoch_loss.add_losses_train(loss_vals)\n",
        "            log_typhoon_forcast(out, batch, writer, epoch)\n",
        "            loss_vals['total'].backward()\n",
        "            optimizer.step()\n",
        "        \n",
        "        lbm.eval()\n",
        "        with torch.no_grad():\n",
        "            for (batch_idx, batch) in enumerate(valid_loader):\n",
        "                out = lbm(batch['u_vert'].squeeze(), batch['u_hori'].squeeze(), batch['rho'].squeeze())\n",
        "                loss_vals = loss_func(out, batch)\n",
        "                epoch_loss.add_losses_val(loss_vals)\n",
        "                log_typhoon_forcast(out, batch, writer, epoch)\n",
        "\n",
        "        losses_train = epoch_loss.get_losses_train()\n",
        "        losses_val = epoch_loss.get_losses_val()\n",
        "        weight_diff_logger.calc_and_log(lbm, writer, epoch)\n",
        "        print(\"epoch = %4d  train_loss = %.4e  val_loss = %.4e  u_vert_loss = %.4e  u_hori_loss = %.4e  rho_loss = %.4e  epoch time = %0.2fs\"\\\n",
        "              % (epoch, losses_train['total'], losses_val['total'], losses_val['u_vert'], losses_val['u_hori'], losses_val['rho'], time.time() - epoch_started_time))\n",
        "        epoch_loss.log(writer, epoch, 'MSE_loss', ['total', 'u_vert', 'u_hori', 'rho'])\n",
        "        # epoch_loss.log(writer, epoch, 'MAE', ['u_vert_mae', 'u_hori_mae', 'rho_mae'])\n",
        "        # losses_0h3h.log(writer, epoch, 'MAE', ['u_vert_mae', 'u_hori_mae', 'rho_mae'], prefix='0h3h')\n",
        "\n",
        "\n",
        "    print('Done')\n",
        "        \n",
        "main(dataset, train_loader, valid_loader, writer)"
      ]
    },
    {
      "cell_type": "markdown",
      "metadata": {
        "id": "z-d32fgxFPDq"
      },
      "source": [
        "# Tensorboard"
      ]
    },
    {
      "cell_type": "code",
      "execution_count": null,
      "metadata": {
        "colab": {
          "background_save": true
        },
        "id": "X3CZN_v2AY53",
        "outputId": "e6c70a95-554b-4197-8885-3de3017c91fb"
      },
      "outputs": [
        {
          "data": {
            "application/javascript": [
              "\n",
              "        (async () => {\n",
              "            const url = new URL(await google.colab.kernel.proxyPort(6006, {'cache': true}));\n",
              "            url.searchParams.set('tensorboardColab', 'true');\n",
              "            const iframe = document.createElement('iframe');\n",
              "            iframe.src = url;\n",
              "            iframe.setAttribute('width', '100%');\n",
              "            iframe.setAttribute('height', '800');\n",
              "            iframe.setAttribute('frameborder', 0);\n",
              "            document.body.appendChild(iframe);\n",
              "        })();\n",
              "    "
            ],
            "text/plain": [
              "<IPython.core.display.Javascript object>"
            ]
          },
          "metadata": {},
          "output_type": "display_data"
        }
      ],
      "source": [
        "%tensorboard --logdir=$log_dir\n",
        "# %tensorboard --logdir=/content/drive/MyDrive/lab_data/logs/20221229_165644"
      ]
    },
    {
      "cell_type": "markdown",
      "metadata": {
        "id": "JxFyExpF1jlh"
      },
      "source": [
        "# Research Diary"
      ]
    },
    {
      "cell_type": "markdown",
      "metadata": {
        "id": "tsj35AVCFjkq"
      },
      "source": [
        "## 2022/12/25"
      ]
    },
    {
      "cell_type": "markdown",
      "metadata": {
        "id": "daTl7brokIvn"
      },
      "source": [
        "\n",
        "### したこと\n",
        "- 層をもう一層ふやして、streamingを5層、collidingを4層にした\n",
        "  - 若干精度良くなった気がする？その前に6.5層でためしたら収束しなくなってしまったので、層を減らしてみた\n",
        "- なんか別に勾配消失がおこっているわけでもなく、むしろ勾配爆発しているようなきもする？\n",
        "  - optimizerをAdams(lrなどはデフォルト値)とかでやってみた結果\n",
        "    - <img src=\"https://drive.google.com/uc?id=1egCA3TmOssUKLbXI39WgBf77S0KxHdOC\" width='400px'>\n",
        "- なので、この後に勾配爆発しないような対策を考える必要がある\n",
        "  1. 勾配を制限する\n",
        "  1. u_vert, u_hori, rhoそれぞれの係数を再度検討する。きちんと数値的に分析して係数変化させてみたほうが良さそう。\n",
        "    - それから、係数がマジックナンバーになっているので、定数化したほうがよいだろう\n",
        "  1. [parameterごとにlrが設定できるらしい](https://pystyle.info/pytorch-sgd/#:~:text=17-,%E3%83%91%E3%83%A9%E3%83%A1%E3%83%BC%E3%82%BF%E3%81%94%E3%81%A8%E3%81%AB%E5%90%84%E7%A8%AE%E4%BF%82%E6%95%B0%E3%82%92%E5%A4%89%E6%9B%B4%E3%81%97%E3%81%9F%E3%81%84%E5%A0%B4%E5%90%88,-torch.optim.SGD)\n",
        "- 現在Adamsでやっているが他のoptimizerも使えないか検証している\n",
        "- リファクタリングしたほうがいい すでにだいぶ読みにくくなっている\n",
        "- なぜか台風の日の画像がすべて取得できていないんだがなぜ…？\n",
        "\n",
        "### 今後の優先順位\n",
        "\n",
        "1. optimizerを変えたときの比較\n",
        "1. リファクタリング\n",
        "  1. u_vert, u_hori, rhoの係数を定数化する\n",
        "  1. main関数のメトリクスを取るところを関数化\n",
        "  1. u_vert, u_horiのMAEをとって、三時間でのMAEも取っておく(グラフで定数値として表しておくとわかりやすいと思う), それからu_squaredとrhoのlossもメトリクスを取っておいたほうがバランスよく学習できているか見やすい気がする\n",
        "  1. 台風の日の画像がすべて取れるようにデバッグ\n",
        "  1. モデルを100epochごとに保存\n",
        "1. 勾配爆発の対策\n",
        "1. パラメータを増やす 特に、(feq + fprev) / 2.0のところをパラメータ化して学習させてみる\n",
        "\n",
        "### 結果\n",
        "1. optimizerを変えたときの画像比較\n",
        "  1. Adam ... 最後に勾配爆発しているが、概ねよく収束している\n",
        "    - <img src=\"https://drive.google.com/uc?id=14VJY4AnRNW-LXsWX3E7q_urOCADuQPxX\" width='200px'> <img src=\"https://drive.google.com/uc?id=1xdePf_J_wcNOAT_GCm2tdmSBnwCiKJzU\" width='200px'>\n",
        "  1. Adadelta ... ダメそう 早々に勾配爆発してしまっているし、収束も悪かった\n",
        "    - <img src=\"https://drive.google.com/uc?id=133r10FBEA7hA-fELX_FJofO_dXc7eV6A\" width='200px'> <img src=\"https://drive.google.com/uc?id=1ezzPaYjngrJ1VC_R59k_NQIh64zL3Jze\" width='200px'>\n",
        "  1. AdamW ... だめっぽい。途中から勾配爆発してしまった\n",
        "    - <img src=\"https://drive.google.com/uc?id=1YTnioqIen_FujQEm8DZIDaq19CunWzh2\" width='200px'> <img src=\"https://drive.google.com/uc?id=1X3kU2nv-EtGdvBbDenXyxnLkVXzZFm4I\" width='200px'>\n",
        "  1. NAG ... なぜかバグってできない...\n",
        "\n",
        "1. リファクタリング\n",
        "  1. u_vert, u_hori, rhoの係数を定数化\n",
        "  1. weightのメトリクスとるところを関数化した\n",
        "  1. 台風の画像取るところを関数化した\n",
        "  1. lossもクラス化して若干みえやすくなった…と思う\n",
        "  1. MAEもとれるようにした。メトリクスが充実してきた感がある\n",
        "  1. 0hと3hのMAEをとって比較できるようにした\n",
        "  1. modelのほぞんは次回\n",
        "\n",
        "rho のMAEがめちゃでかいのがきになる なぜ？\n",
        "\n"
      ]
    },
    {
      "cell_type": "markdown",
      "metadata": {
        "id": "BUeCrHYU1IPn"
      },
      "source": [
        "## 進捗ゼミ 2022/12/21"
      ]
    },
    {
      "cell_type": "markdown",
      "metadata": {
        "id": "nPzs3mGHpKRE"
      },
      "source": [
        "### 今回したこと\n",
        "- ここにあるコード全部\n",
        "- PyTorchに移植が完了した！👏\n",
        "  - GPUで速度が爆速に 2層で1epochあたり1時間かかっていたのが、4層まで増やして1epochあたり30秒で終わるようになった\n",
        "  - もう逆誤差伝播を手計算する必要がない(自動微分)\n",
        "  - SGD, Adamなどの最適化関数が用意されているので、それを使うだけ\n",
        "- いままでは出力のu_vert, u_horiしか損失関数に使っていなかったが、その他にもrhoを使うようにした\n",
        "\n",
        "### これからやること\n",
        "\n",
        "- もう少しepoch数を増やして実験(?)\n",
        "- Adam以外の最適化関数の利用、比較検討\n",
        "- 学習済みモデルを都度保存する\n",
        "  - モデルのインスタンスがmain関数に埋め込まれているので、これを外に出す\n",
        "- 重み成分のチェック（勾配が消失していないか確かめる）\n",
        "  - 勾配が消失していないなら層を増やしてみる\n",
        "  - 消失しているなら重みの伝え方をもう少し検討\n",
        "    - Resnetのように入力値を再度足し合わせる\n",
        "    - 線形補間した教師データを用意し、転移学習\n",
        "      - 0時間、3時間、6時間でどれくらい線形的な関係にあるのかを調べる必要がありそう\n",
        "- InputLayerの重みも学習できるようにする\n",
        "- ほかのデータ(たとえば海流など)も使えないか考えてみる"
      ]
    }
  ],
  "metadata": {
    "accelerator": "GPU",
    "colab": {
      "provenance": [],
      "mount_file_id": "1PsT-57QVxLNcOleW0DCFaSRD9nonylWI",
      "authorship_tag": "ABX9TyMMggMjLBwr7kpeUGIgQCrp",
      "include_colab_link": true
    },
    "gpuClass": "standard",
    "kernelspec": {
      "display_name": "Python 3",
      "name": "python3"
    },
    "language_info": {
      "name": "python"
    }
  },
  "nbformat": 4,
  "nbformat_minor": 0
}